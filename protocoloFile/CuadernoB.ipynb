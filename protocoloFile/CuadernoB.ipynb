{
 "cells": [
  {
   "attachments": {},
   "cell_type": "markdown",
   "id": "41df22f1-611a-4cd5-a76f-208e338bef7c",
   "metadata": {
    "tags": []
   },
   "source": [
    "## Advertencia ⚠️\n",
    "Los comandos y explicaciones de este cuaderno esperan que usted haya corrido las celdas en el Cuaderno A hasta el punto en donde se le indica que debe continuar en este cuaderno.<br/>\n",
    "Si no lo ha hecho, regrese al Cuaderno A y vuelva a este cuando se le indique."
   ]
  },
  {
   "attachments": {},
   "cell_type": "markdown",
   "id": "5226ced3",
   "metadata": {},
   "source": [
    "#### Creemos un repositorio diferente"
   ]
  },
  {
   "cell_type": "code",
   "execution_count": null,
   "id": "f377d8e5",
   "metadata": {},
   "outputs": [],
   "source": [
    "%%bash\n",
    "git init"
   ]
  },
  {
   "attachments": {},
   "cell_type": "markdown",
   "id": "6f572465",
   "metadata": {},
   "source": [
    "**Añadiremos el mismo repositorio como remoto**"
   ]
  },
  {
   "cell_type": "code",
   "execution_count": null,
   "id": "0521124e-43cb-47d3-a01e-2e0068c232d3",
   "metadata": {
    "tags": []
   },
   "outputs": [],
   "source": [
    "%%bash\n",
    "git remote add origin /home/jovyan/repos/local"
   ]
  },
  {
   "attachments": {},
   "cell_type": "markdown",
   "id": "51f18ae5",
   "metadata": {},
   "source": [
    "**Modificar un archivo y hacer un *commit***"
   ]
  },
  {
   "cell_type": "code",
   "execution_count": null,
   "id": "c90c2368-ca74-4758-893a-4210847ad944",
   "metadata": {
    "tags": []
   },
   "outputs": [],
   "source": [
    "%%bash\n",
    "pwd > foo.txt\n",
    "git add foo.txt\n",
    "git commit -a -m \"Test 2 added foo.txt\""
   ]
  },
  {
   "attachments": {},
   "cell_type": "markdown",
   "id": "0f40255e",
   "metadata": {},
   "source": [
    "<span style=\"font-family: Consolas\">**git fetch origin master**</span> Reporta que existe una discrepancia entre el repositorio remoto y el nuestro"
   ]
  },
  {
   "cell_type": "code",
   "execution_count": null,
   "id": "b7e84b23-29ea-446e-95e8-ff19c88406e6",
   "metadata": {
    "tags": []
   },
   "outputs": [],
   "source": [
    "%%bash\n",
    "git fetch origin master"
   ]
  },
  {
   "attachments": {},
   "cell_type": "markdown",
   "id": "362711d9",
   "metadata": {},
   "source": [
    "Cambiamos la configuración para indicarle a <span style=\"font-family: Consolas\">**git pull**</span> que tiene que intentar hacer un *merge* y no un *rebase* entre la rama remota y la local."
   ]
  },
  {
   "cell_type": "code",
   "execution_count": null,
   "id": "9f419ed4-78c5-49f6-bea4-3cf6f035e47e",
   "metadata": {
    "tags": []
   },
   "outputs": [],
   "source": [
    "%%bash\n",
    "git config pull.rebase false"
   ]
  },
  {
   "attachments": {},
   "cell_type": "markdown",
   "id": "4c834f7e",
   "metadata": {},
   "source": [
    "Ahora usamos <span style=\"font-family: Consolas\">**git pull**</span> para obtener la versión de los archivos en el repositorio remoto.<br/> <span style=\"font-family: Consolas\">**--allow-unrelated-histories**</span> permite hacer un *merge* entre 2 repositorios completamente diferentes. (Nuestro caso)<br/>\n",
    "El merge automático fallará:"
   ]
  },
  {
   "cell_type": "code",
   "execution_count": null,
   "id": "a570a907-5772-450f-b5b7-f1229524e4f6",
   "metadata": {
    "tags": []
   },
   "outputs": [],
   "source": [
    "%%bash\n",
    "git pull origin master --allow-unrelated-histories"
   ]
  },
  {
   "attachments": {},
   "cell_type": "markdown",
   "id": "28abfbc9",
   "metadata": {},
   "source": [
    "Para resolver el coflicto simplemente recuperaremos nuestra versión con <span style=\"font-family: Consolas\">**git checkout [archivo] --ours**</span>"
   ]
  },
  {
   "cell_type": "code",
   "execution_count": null,
   "id": "79d33624-9f8a-4f0c-80a5-28292f4fda84",
   "metadata": {
    "tags": []
   },
   "outputs": [],
   "source": [
    "%%bash\n",
    "git checkout foo.txt --ours"
   ]
  },
  {
   "attachments": {},
   "cell_type": "markdown",
   "id": "f986d9ed",
   "metadata": {},
   "source": [
    "Luego haremos un *commit* para indicarle a Git que hemos resuelto el conflicto"
   ]
  },
  {
   "cell_type": "code",
   "execution_count": null,
   "id": "1e115efd-75b1-45cf-9aa2-c91c9bfeb65d",
   "metadata": {
    "tags": []
   },
   "outputs": [],
   "source": [
    "%%bash\n",
    "git add foo.txt\n",
    "git commit -a -m \"Merge con origin\""
   ]
  },
  {
   "attachments": {},
   "cell_type": "markdown",
   "id": "257907be",
   "metadata": {},
   "source": [
    "Ahora la bitácora reporta ambos *commits* iniciales y el *merge* recien hecho"
   ]
  },
  {
   "cell_type": "code",
   "execution_count": null,
   "id": "b1a42e70-83dd-4b30-8ef9-01ec2c20292c",
   "metadata": {
    "tags": []
   },
   "outputs": [],
   "source": [
    "%%bash\n",
    "git log --pretty=oneline"
   ]
  },
  {
   "attachments": {},
   "cell_type": "markdown",
   "id": "08dc5e8f",
   "metadata": {},
   "source": [
    "#### Actualizamos al repositorio remoto"
   ]
  },
  {
   "cell_type": "code",
   "execution_count": null,
   "id": "30eb7d37-a419-45db-aba5-4e47f1fcf10e",
   "metadata": {
    "tags": []
   },
   "outputs": [],
   "source": [
    "%%bash\n",
    "git push origin master"
   ]
  },
  {
   "attachments": {},
   "cell_type": "markdown",
   "id": "be139163",
   "metadata": {},
   "source": [
    "#### Regrese al Cuaderno A y continue desde donde se le indico ir al Cuaderno B"
   ]
  }
 ],
 "metadata": {
  "kernelspec": {
   "display_name": "Python 3",
   "language": "python",
   "name": "python3"
  },
  "language_info": {
   "codemirror_mode": {
    "name": "ipython",
    "version": 3
   },
   "file_extension": ".py",
   "mimetype": "text/x-python",
   "name": "python",
   "nbconvert_exporter": "python",
   "pygments_lexer": "ipython3",
   "version": "3.10.10"
  },
  "vscode": {
   "interpreter": {
    "hash": "0dd6fa3abc8b5e7149b352393c5164f57b1cec79d3e0f994a3fd8126332678a6"
   }
  }
 },
 "nbformat": 4,
 "nbformat_minor": 5
}
