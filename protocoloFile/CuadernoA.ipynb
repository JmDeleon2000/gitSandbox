{
 "cells": [
  {
   "attachments": {},
   "cell_type": "markdown",
   "id": "2a5883d4",
   "metadata": {},
   "source": [
    "#### Inicializar el repositorio"
   ]
  },
  {
   "cell_type": "code",
   "execution_count": null,
   "id": "b71bb80e-5976-4046-af54-6a7148813028",
   "metadata": {
    "tags": []
   },
   "outputs": [],
   "source": [
    "%%bash\n",
    "git init"
   ]
  },
  {
   "attachments": {},
   "cell_type": "markdown",
   "id": "eec2c3cd",
   "metadata": {},
   "source": [
    "<span style=\"color:red\">⚠️ **(No hay que correrlo si ya lo ha corrido al seguir otro ejemplo durante esta sesión)**</span>"
   ]
  },
  {
   "cell_type": "code",
   "execution_count": null,
   "id": "d55517a6-3863-43e4-80fd-baf922438b19",
   "metadata": {
    "tags": []
   },
   "outputs": [],
   "source": [
    "%%bash\n",
    "git config --global user.email \"fakemail@example.org\"\n",
    "git config --global user.name  \"exampleuser\""
   ]
  },
  {
   "attachments": {},
   "cell_type": "markdown",
   "id": "075505a5",
   "metadata": {},
   "source": [
    "Revisemos los contenidos de /home/jovyan/repos/local"
   ]
  },
  {
   "cell_type": "code",
   "execution_count": null,
   "id": "75e194ac-2975-4299-96bf-30356255dca5",
   "metadata": {
    "tags": []
   },
   "outputs": [],
   "source": [
    "%%bash\n",
    "cd /home/jovyan/repos/local && ls"
   ]
  },
  {
   "attachments": {},
   "cell_type": "markdown",
   "id": "98445fd6",
   "metadata": {},
   "source": [
    "Estos son los contenidos de un repositorio (lo que está en .git)<br/>\n",
    "Fue creado con <span style=\"font-family: Consolas\">**git init --bare**</span>, por lo que no cuenta con un *Working Directory* y solo tiene los contenidos de *.git*. Esto es adecuado para crear un respositorio remoto, ya que no es necesario mantener un espacio de trabajo."
   ]
  },
  {
   "attachments": {},
   "cell_type": "markdown",
   "id": "0541ee8a",
   "metadata": {},
   "source": [
    "**Añadir al repositorio en /home/jovyan/repos/local como remoto y darle el alias origin**"
   ]
  },
  {
   "cell_type": "code",
   "execution_count": null,
   "id": "e9cec704-b246-42cf-bcff-6f5aa9fc8c3a",
   "metadata": {
    "tags": []
   },
   "outputs": [],
   "source": [
    "%%bash\n",
    "git remote add origin /home/jovyan/repos/local"
   ]
  },
  {
   "attachments": {},
   "cell_type": "markdown",
   "id": "6d9fc063",
   "metadata": {},
   "source": [
    "**Modificar un archivo y hacer un *commit***"
   ]
  },
  {
   "cell_type": "code",
   "execution_count": null,
   "id": "9b4c1fa1-aa88-4b20-b45e-ca6bafc76516",
   "metadata": {
    "tags": []
   },
   "outputs": [],
   "source": [
    "%%bash\n",
    "pwd > foo.txt\n",
    "git add foo.txt\n",
    "git commit -a -m \"Test 1 added foo.txt\""
   ]
  },
  {
   "attachments": {},
   "cell_type": "markdown",
   "id": "2f33a43c",
   "metadata": {},
   "source": [
    "**Actualizar enviar los cambios al repositorio remoto**"
   ]
  },
  {
   "cell_type": "code",
   "execution_count": null,
   "id": "2b1ff502-8fd0-4199-b3ab-0a3ef01c0a28",
   "metadata": {
    "tags": []
   },
   "outputs": [],
   "source": [
    "%%bash\n",
    "git push origin master"
   ]
  },
  {
   "attachments": {},
   "cell_type": "markdown",
   "id": "20415a8a",
   "metadata": {},
   "source": [
    "#### Continuar en el cuaderno B"
   ]
  },
  {
   "cell_type": "code",
   "execution_count": null,
   "id": "9f862a05-d7e5-41ed-bc12-2edd2ca4ec92",
   "metadata": {
    "tags": []
   },
   "outputs": [],
   "source": [
    "%%bash\n",
    "git fetch origin master"
   ]
  },
  {
   "attachments": {},
   "cell_type": "markdown",
   "id": "ed1742c5",
   "metadata": {},
   "source": [
    "Cuando hagamos *pull* no necesitaremos hacer un merge porque este ya se hizo y está presente en el repositorio remoto."
   ]
  },
  {
   "cell_type": "code",
   "execution_count": null,
   "id": "7cff499a-8a50-4dce-926c-c474ec55cd0b",
   "metadata": {
    "tags": []
   },
   "outputs": [],
   "source": [
    "%%bash\n",
    "git pull origin master"
   ]
  },
  {
   "attachments": {},
   "cell_type": "markdown",
   "id": "6bb04b0c",
   "metadata": {},
   "source": [
    "#### Comprobemos\n",
    "La bitácora será la misma que en el repositorio del Cuaderno B"
   ]
  },
  {
   "cell_type": "code",
   "execution_count": null,
   "id": "3dfe505e",
   "metadata": {},
   "outputs": [],
   "source": [
    "%%bash\n",
    "git log --pretty=oneline"
   ]
  }
 ],
 "metadata": {
  "kernelspec": {
   "display_name": "Python 3",
   "language": "python",
   "name": "python3"
  },
  "language_info": {
   "codemirror_mode": {
    "name": "ipython",
    "version": 3
   },
   "file_extension": ".py",
   "mimetype": "text/x-python",
   "name": "python",
   "nbconvert_exporter": "python",
   "pygments_lexer": "ipython3",
   "version": "3.10.10"
  },
  "vscode": {
   "interpreter": {
    "hash": "0dd6fa3abc8b5e7149b352393c5164f57b1cec79d3e0f994a3fd8126332678a6"
   }
  }
 },
 "nbformat": 4,
 "nbformat_minor": 5
}
