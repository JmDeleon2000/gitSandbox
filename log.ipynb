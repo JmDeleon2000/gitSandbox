{
 "cells": [
  {
   "cell_type": "markdown",
   "id": "81aeb209-09c1-4721-a268-487132c36c05",
   "metadata": {
    "tags": []
   },
   "source": [
    "# Ejemplo de git log"
   ]
  },
  {
   "attachments": {},
   "cell_type": "markdown",
   "id": "58cd8d37-79a6-4c22-95e4-e3df9691ed18",
   "metadata": {},
   "source": [
    "#### Iniciar el repositorio"
   ]
  },
  {
   "cell_type": "code",
   "execution_count": null,
   "id": "66d1dd5f-44cf-4808-a00b-96491fe1ac33",
   "metadata": {
    "tags": []
   },
   "outputs": [],
   "source": [
    "%%bash\n",
    "git init"
   ]
  },
  {
   "attachments": {},
   "cell_type": "markdown",
   "id": "fb8aedb2",
   "metadata": {},
   "source": [
    "#### Destruir el repositorio"
   ]
  },
  {
   "cell_type": "code",
   "execution_count": null,
   "id": "e95d10fc",
   "metadata": {},
   "outputs": [],
   "source": [
    "%%bash\n",
    "rm -Rfv .git"
   ]
  },
  {
   "attachments": {},
   "cell_type": "markdown",
   "id": "e2814378-c103-469f-adfd-2e3aef3ddb66",
   "metadata": {},
   "source": [
    "#### Iniciar sesión"
   ]
  },
  {
   "attachments": {},
   "cell_type": "markdown",
   "id": "19ad54b0",
   "metadata": {},
   "source": [
    "<span style=\"color:red\">⚠️ **(No hay que correrlo si ya lo ha corrido al seguir otro ejemplo durante esta sesión)**</span>"
   ]
  },
  {
   "cell_type": "code",
   "execution_count": null,
   "id": "9123b375-1b32-4258-8747-78d5bd202111",
   "metadata": {
    "tags": []
   },
   "outputs": [],
   "source": [
    "%%bash\n",
    "git config --global user.email \"fakemail@example.org\"\n",
    "git config --global user.name  \"exampleuser\""
   ]
  },
  {
   "attachments": {},
   "cell_type": "markdown",
   "id": "ff22c27a-4bc8-4822-bf35-49b687e3136d",
   "metadata": {},
   "source": [
    "### Crear un archivo y hacer un commit"
   ]
  },
  {
   "cell_type": "code",
   "execution_count": null,
   "id": "bfd52fe4-773f-4681-b808-68be180714e6",
   "metadata": {
    "tags": []
   },
   "outputs": [],
   "source": [
    "%%bash\n",
    "pwd > foo.txt\n",
    "git add foo.txt\n",
    "git commit -a -m \"Crear foo.txt\""
   ]
  },
  {
   "cell_type": "markdown",
   "id": "51e4a020-f2be-4e22-aa4c-48c233f929c0",
   "metadata": {},
   "source": [
    "### Modificar archivo y hacer otro commit"
   ]
  },
  {
   "cell_type": "code",
   "execution_count": null,
   "id": "9ff32b52-14c2-45a1-9ba6-4a61a2b9904b",
   "metadata": {
    "tags": []
   },
   "outputs": [],
   "source": [
    "%%bash\n",
    "printenv > foo.txt\n",
    "git commit -a -m \"Modificar foo.txt\""
   ]
  },
  {
   "cell_type": "markdown",
   "id": "05235c18-2e44-4611-aa55-c9d72ec7e079",
   "metadata": {},
   "source": [
    "### Borrar archivo y hacer otro commit"
   ]
  },
  {
   "cell_type": "code",
   "execution_count": null,
   "id": "7c5a50bf-5f6d-45e7-9ab7-18126aa132ad",
   "metadata": {
    "tags": []
   },
   "outputs": [],
   "source": [
    "%%bash\n",
    "rm foo.txt\n",
    "git commit -a -m \"Remover foo.txt\""
   ]
  },
  {
   "cell_type": "markdown",
   "id": "c16e3ebe-6729-48c8-a556-50a063ce5902",
   "metadata": {},
   "source": [
    "### Mostrar bitácoras de los commits"
   ]
  },
  {
   "cell_type": "code",
   "execution_count": null,
   "id": "8d7b22f9-6de2-48bb-998d-2e133bde355b",
   "metadata": {
    "tags": []
   },
   "outputs": [],
   "source": [
    "%%bash\n",
    "git log HEAD~2..HEAD"
   ]
  },
  {
   "cell_type": "markdown",
   "id": "b9c31862-0fa0-46ee-b929-1e3b7171da5f",
   "metadata": {},
   "source": [
    "### La opción --pretty permite definir el formato en el que se imprime la bitácora"
   ]
  },
  {
   "cell_type": "markdown",
   "id": "fb61be9b-ffcd-4274-92be-e37333cc488d",
   "metadata": {
    "tags": []
   },
   "source": [
    "**email** muestra el mail del autor"
   ]
  },
  {
   "cell_type": "code",
   "execution_count": null,
   "id": "2f73c743-d340-4f68-aba2-bb70206b676f",
   "metadata": {
    "tags": []
   },
   "outputs": [],
   "source": [
    "%%bash\n",
    "git log HEAD~2..HEAD --pretty=email"
   ]
  },
  {
   "cell_type": "markdown",
   "id": "6c6f2f94-9228-47b9-b6ef-a47c5ee41244",
   "metadata": {
    "tags": []
   },
   "source": [
    "**fuller** Muestra aún más información"
   ]
  },
  {
   "cell_type": "code",
   "execution_count": null,
   "id": "85322db7-6f04-43b7-8273-ae364c09fb8e",
   "metadata": {
    "tags": []
   },
   "outputs": [],
   "source": [
    "%%bash\n",
    "git log HEAD~2..HEAD --pretty=fuller"
   ]
  },
  {
   "cell_type": "markdown",
   "id": "91b9db2e-b72b-41d3-a431-cc95d7ab6001",
   "metadata": {},
   "source": [
    "**oneline** imprime el hash y el título del commit"
   ]
  },
  {
   "cell_type": "code",
   "execution_count": null,
   "id": "ecaaccc8-43ea-4300-8e6a-83942b3bd37e",
   "metadata": {
    "tags": []
   },
   "outputs": [],
   "source": [
    "%%bash\n",
    "git log HEAD~2..HEAD --pretty=oneline"
   ]
  },
  {
   "cell_type": "markdown",
   "id": "5828662b-3481-4eed-9cfa-48e53b19a330",
   "metadata": {},
   "source": [
    "**reference** imprime el hash acotado, el título del commit y la fecha"
   ]
  },
  {
   "cell_type": "code",
   "execution_count": null,
   "id": "5e9bdc8d-7e18-4c9f-ac00-4a146519977e",
   "metadata": {
    "tags": []
   },
   "outputs": [],
   "source": [
    "%%bash\n",
    "git log HEAD~2..HEAD --pretty=reference"
   ]
  },
  {
   "cell_type": "markdown",
   "id": "50cf1d6e-3e91-4e02-8e05-e8c744149bda",
   "metadata": {},
   "source": [
    "**raw** imprime la información del commit como se la guarda en la base de datos"
   ]
  },
  {
   "cell_type": "code",
   "execution_count": null,
   "id": "6cc353f5-c47e-45f9-983f-b3d5a3c2e78c",
   "metadata": {
    "tags": []
   },
   "outputs": [],
   "source": [
    "%%bash\n",
    "git log HEAD~2...HEAD --pretty=raw"
   ]
  },
  {
   "cell_type": "markdown",
   "id": "a703c41c-4a5c-44fd-a112-13ddcbefc646",
   "metadata": {},
   "source": [
    "### También es posible crear formatos personalizados con format:"
   ]
  },
  {
   "cell_type": "code",
   "execution_count": null,
   "id": "a20b8951-47d7-4541-b371-bd8f376f62d5",
   "metadata": {
    "tags": []
   },
   "outputs": [],
   "source": [
    "%%bash\n",
    "git log HEAD~2...HEAD --pretty=format:\"The author of %h was %an, %ar%nThe title was >>%s<<%n\""
   ]
  },
  {
   "cell_type": "code",
   "execution_count": null,
   "id": "21d4daf4-f6f1-431a-b904-ae421d857a8b",
   "metadata": {
    "tags": []
   },
   "outputs": [],
   "source": [
    "%%bash\n",
    "git log HEAD~2...HEAD --pretty=format:\"Hash: %H %nNombre del autor: %an     %ae%n%aD\""
   ]
  },
  {
   "cell_type": "code",
   "execution_count": null,
   "id": "17608134",
   "metadata": {},
   "outputs": [],
   "source": [
    "%%bash\n",
    "git log --pretty=format:\"%h - %an, %ar : %s\""
   ]
  },
  {
   "attachments": {},
   "cell_type": "markdown",
   "id": "2d782f4c",
   "metadata": {},
   "source": [
    "### Finalmente, es posible mostrar el historial del repositorio, incluyendo todas las ramas que influenciaron su estado actual y las relaciones entre ellas."
   ]
  },
  {
   "cell_type": "code",
   "execution_count": null,
   "id": "350a6c63",
   "metadata": {},
   "outputs": [],
   "source": [
    "%%bash\n",
    "git log --graph --pretty=oneline"
   ]
  }
 ],
 "metadata": {
  "kernelspec": {
   "display_name": "Python 3 (ipykernel)",
   "language": "python",
   "name": "python3"
  },
  "language_info": {
   "codemirror_mode": {
    "name": "ipython",
    "version": 3
   },
   "file_extension": ".py",
   "mimetype": "text/x-python",
   "name": "python",
   "nbconvert_exporter": "python",
   "pygments_lexer": "ipython3",
   "version": "3.10.10"
  },
  "vscode": {
   "interpreter": {
    "hash": "0dd6fa3abc8b5e7149b352393c5164f57b1cec79d3e0f994a3fd8126332678a6"
   }
  }
 },
 "nbformat": 4,
 "nbformat_minor": 5
}
