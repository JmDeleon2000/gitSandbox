{
 "cells": [
  {
   "cell_type": "markdown",
   "id": "d30653d3-4f74-4167-a46e-399243872924",
   "metadata": {},
   "source": [
    "# Ejemplo de git checkout -- [archivo]"
   ]
  },
  {
   "attachments": {},
   "cell_type": "markdown",
   "id": "dfabc62f-c51e-4617-8294-e33857adf70c",
   "metadata": {},
   "source": [
    "#### Iniciar el repositorio "
   ]
  },
  {
   "cell_type": "code",
   "execution_count": null,
   "id": "2c7a920e-e179-46fb-9e93-f821894b643f",
   "metadata": {
    "tags": []
   },
   "outputs": [],
   "source": [
    "%%bash\n",
    "git init"
   ]
  },
  {
   "attachments": {},
   "cell_type": "markdown",
   "id": "4924a8be",
   "metadata": {},
   "source": [
    "#### Destruir el repositorio"
   ]
  },
  {
   "cell_type": "code",
   "execution_count": null,
   "id": "c21781d8",
   "metadata": {},
   "outputs": [],
   "source": [
    "%%bash\n",
    "rm -Rfv .git"
   ]
  },
  {
   "attachments": {},
   "cell_type": "markdown",
   "id": "587c4d7e-0169-46b6-a6f4-ad953246a42b",
   "metadata": {},
   "source": [
    "#### Iniciar sesión"
   ]
  },
  {
   "cell_type": "markdown",
   "id": "e9756d4c-d6df-48dd-bb36-bf4357ac51e4",
   "metadata": {},
   "source": [
    "<span style=\"color:red\">⚠️ **(No hay que correrlo si ya lo ha corrido al seguir otro ejemplo durante esta sesión)**</span>"
   ]
  },
  {
   "cell_type": "code",
   "execution_count": null,
   "id": "be3abaff-efc2-4e84-99ea-2c23f8fac488",
   "metadata": {
    "tags": []
   },
   "outputs": [],
   "source": [
    "%%bash\n",
    "git config --global user.email \"fakemail@example.org\"\n",
    "git config --global user.name  \"exampleuser\""
   ]
  },
  {
   "cell_type": "markdown",
   "id": "1913fdc3-cbe3-4949-aaf7-af67f5aa423f",
   "metadata": {},
   "source": [
    "#### Cambiemos los contenidos de foo.txt y hagamos varios commits"
   ]
  },
  {
   "cell_type": "code",
   "execution_count": null,
   "id": "170d54f2-fb25-4172-8128-44217635e788",
   "metadata": {
    "tags": []
   },
   "outputs": [],
   "source": [
    "%%bash\n",
    "pwd > foo.txt\n",
    "git add foo.txt\n",
    "git commit -a -m \"Crear foo.txt\"\n",
    "\n",
    "printenv PATH > foo.txt\n",
    "git commit -a -m \"Modificar foo.txt\"\n",
    "\n",
    "printenv SHELL > foo.txt\n",
    "git commit -a -m \"Modificar foo.txt otra vez\""
   ]
  },
  {
   "cell_type": "markdown",
   "id": "9c01593c-05ae-41d3-9f09-583ba613ce9e",
   "metadata": {
    "tags": []
   },
   "source": [
    "**Ejemplo**<br/>\n",
    "Imaginemos que la esta última versión de foo.txt es especial y queremos resaltar el *commit* para reflejar eso.<br/>\n",
    "¿Cómo podríamos lograr esto?<br/>\n",
    "1) Guardar el *hash* nos permite guardar una referencia única al commit. Pero no es legible.<br/>\n",
    "2) Y guardar el nombre del *commit* no crea una referencia única para un commit ya que estos pueden compartir nombre.<br/>\n",
    "3) Es posible crear una rama en la que no se hará ningún *commit* ni *merge* para resaltar el su último *commit*. Pero no hay una manera sencilla de asegurar que no se hagan cambios a esa rama.<br/>\n",
    "\n",
    "<span style=\"font-family: Consolas\">**git tag**</span> es la herramienta que buscamos en este caso. Guarda una referencia legible y única de nuestros *commits* al asignarle un nombre legible al hash"
   ]
  },
  {
   "cell_type": "code",
   "execution_count": null,
   "id": "1d72fdd9-6c51-400c-9576-9dc773f189be",
   "metadata": {
    "tags": []
   },
   "outputs": [],
   "source": [
    "%%bash\n",
    "git tag -a v1.0 -m \"Mensaje para etiqueta de la versión 1.0\""
   ]
  },
  {
   "cell_type": "markdown",
   "id": "86174729-f344-483a-9fc3-6d47c7bb8531",
   "metadata": {},
   "source": [
    "<span style=\"font-family: Consolas\">**-a**</span> crea una etiqueta anotada<br/> \n",
    "<span style=\"font-family: Consolas\">**-m**</span> define el mensaje de la etiqueta anotada<br/><br/>\n",
    "Podemos ver todas las etiquetas creadas con <span style=\"font-family: Consolas\">**git tag**</span>"
   ]
  },
  {
   "cell_type": "code",
   "execution_count": null,
   "id": "40a79224-b398-4a55-b9e4-26a92f7115f2",
   "metadata": {
    "tags": []
   },
   "outputs": [],
   "source": [
    "%%bash\n",
    "git tag"
   ]
  },
  {
   "cell_type": "markdown",
   "id": "6561b981-6303-4357-8577-5a34235ef8a1",
   "metadata": {},
   "source": [
    "<span style=\"font-family: Consolas\">**git show**</span> muestra los datos de la etiqueta y el *commit* al que referencia"
   ]
  },
  {
   "cell_type": "code",
   "execution_count": null,
   "id": "95e6d378-99d5-4a72-bf16-b68648151d1b",
   "metadata": {
    "tags": []
   },
   "outputs": [],
   "source": [
    "%%bash\n",
    "git show v1.0"
   ]
  },
  {
   "cell_type": "markdown",
   "id": "cd23dc07-e8fe-4312-85ae-0b58dc7448a3",
   "metadata": {},
   "source": [
    "**Notar** la diferencia con <span style=\"font-family: Consolas\">**git show HEAD**</span><br/> No se muestra la información de la etiqueta, solo la del *commit*:"
   ]
  },
  {
   "cell_type": "code",
   "execution_count": null,
   "id": "0b3912b7-23ea-49ec-9a60-5767a9a711d2",
   "metadata": {
    "tags": []
   },
   "outputs": [],
   "source": [
    "%%bash\n",
    "git show HEAD"
   ]
  },
  {
   "cell_type": "markdown",
   "id": "4ed25188-baeb-4baa-8723-c1682743fc15",
   "metadata": {},
   "source": [
    "**Cada etiqueta es única**<br/>\n",
    "No se puede crear más de una etiqueta con exactamente el mismo nombre. <br/>\n",
    "Por lo que el siguiente comando va a fallar y <span style=\"font-family: Consolas\">**git tag**</span> no mostrará una nueva etiqueta: "
   ]
  },
  {
   "cell_type": "code",
   "execution_count": null,
   "id": "a49fe8b7-4c7c-4d86-891c-d64c69001c9e",
   "metadata": {
    "tags": []
   },
   "outputs": [],
   "source": [
    "%%bash\n",
    "git tag -a v1.0 -m \"Misma etiqueta, mensaje diferente 1.0\"\n",
    "git tag"
   ]
  },
  {
   "cell_type": "markdown",
   "id": "681bd56d-f76b-4dc1-8d4f-7776034d0719",
   "metadata": {},
   "source": [
    "También es posible crear **etiquetas ligeras**, que solo guardan la información del *commit* y no añaden nada más:"
   ]
  },
  {
   "cell_type": "code",
   "execution_count": null,
   "id": "da7133b1-ebe2-4047-909a-2558fc71d4b0",
   "metadata": {
    "tags": []
   },
   "outputs": [],
   "source": [
    "%%bash\n",
    "git tag v0.1 HEAD~2"
   ]
  },
  {
   "cell_type": "markdown",
   "id": "c5d0b3ff-c6eb-4916-88d6-4b26c37c339b",
   "metadata": {},
   "source": [
    "En este caso <span style=\"font-family: Consolas\">**git show 0.1**</span> y <span style=\"font-family: Consolas\">**git show HEAD~2**</span> son equivalentes, ya que la etiqueta es ligera y no añade información adicional."
   ]
  },
  {
   "cell_type": "code",
   "execution_count": null,
   "id": "85fd868c-e335-426f-9d46-b092a0f45ffe",
   "metadata": {
    "tags": []
   },
   "outputs": [],
   "source": [
    "%%bash \n",
    "git show v0.1"
   ]
  },
  {
   "cell_type": "code",
   "execution_count": null,
   "id": "a85b6a1d-4d86-4e04-8b95-776ab25f4cb1",
   "metadata": {
    "tags": []
   },
   "outputs": [],
   "source": [
    "%%bash \n",
    "git show HEAD~2"
   ]
  },
  {
   "cell_type": "markdown",
   "id": "a5079d38-9cda-4d41-bb05-74a95be2152c",
   "metadata": {
    "tags": []
   },
   "source": [
    "También es posible crear varias etiquetas par un *commit*. "
   ]
  },
  {
   "cell_type": "code",
   "execution_count": null,
   "id": "be168cfe-636a-41e9-86ec-2fa25ff64d4a",
   "metadata": {
    "tags": []
   },
   "outputs": [],
   "source": [
    "%%bash\n",
    "git tag -a 0.1.0 HEAD~2 -m \"Original\"\n",
    "git tag"
   ]
  },
  {
   "cell_type": "markdown",
   "id": "65bc1300-d365-4a05-81bd-a49241212e08",
   "metadata": {},
   "source": [
    "**Importante**<br/>Notemos que hicimos una etiqueta para un *commit* que no es el más reciente en nuestra rama al especificar el *commit* al correr <span style=\"font-family: Consolas\">**git tag**</span><br/>\n",
    "HEAD~2 se refiera al abuelo de HEAD, es decir a 2 *commits* previo a HEAD.<br/>\n",
    "Si se conoce otra referencia a un *commit* o directamente su *hash* también es posible usarla para crear una etiqueta."
   ]
  },
  {
   "cell_type": "markdown",
   "id": "eedc007a-3f5b-4ba2-89d7-4ab1a2442a9c",
   "metadata": {},
   "source": [
    "Es posible usar <span style=\"font-family: Consolas\">**git checkout**</span> tanto para obtener las versiones previas de nuestros archivos:"
   ]
  },
  {
   "cell_type": "code",
   "execution_count": null,
   "id": "7da8e0c6-9b90-472b-ad3e-4044f985db53",
   "metadata": {
    "tags": []
   },
   "outputs": [],
   "source": [
    "%%bash\n",
    "git checkout v0.1 foo.txt\n",
    "cat foo.txt"
   ]
  },
  {
   "cell_type": "markdown",
   "id": "729b9fc4-5c52-4350-a838-82f86200cfe0",
   "metadata": {},
   "source": [
    "Ahora cat muestra que los contenidos de foo.txt como estaban en v0.1"
   ]
  },
  {
   "cell_type": "code",
   "execution_count": null,
   "id": "363f4de8-c7d3-440f-b28c-25ff29022e49",
   "metadata": {
    "tags": []
   },
   "outputs": [],
   "source": [
    "%%bash\n",
    "git checkout v1.0 foo.txt\n",
    "cat foo.txt"
   ]
  },
  {
   "cell_type": "markdown",
   "id": "3ff2982a-d4d5-49c1-84c1-d33b763cd474",
   "metadata": {},
   "source": [
    "Ahora cat muestra que los contenidos de foo.txt como estaban en v1.0"
   ]
  },
  {
   "cell_type": "markdown",
   "id": "73da2e14-0b42-402b-8ff4-0ef30f271177",
   "metadata": {},
   "source": [
    "#### Finalmente\n",
    "También se puede usar <span style=\"font-family: Consolas\">**git checkout**</span> para cambiar a una etiqueta como si fuera una rama.<br/>Aunque esto no es muy útil ya que las etiquetas no están pensadas para ser modificables. Cualquier *commit* creado cuando se le hace *checkout* a una etiqueta no formará parte de ninguna rama, por lo que será inaccesible a menos que se apunte su *hash*.<br/>\n",
    "Git mostrará una advertencia:"
   ]
  },
  {
   "cell_type": "code",
   "execution_count": null,
   "id": "929984d1-101e-4c72-9387-9ce6eb286105",
   "metadata": {
    "tags": []
   },
   "outputs": [],
   "source": [
    "%%bash\n",
    "git checkout v1.0"
   ]
  },
  {
   "cell_type": "markdown",
   "id": "844f9242-f3bc-467b-be9b-09e1bf9b1139",
   "metadata": {},
   "source": [
    "Si queremos que nuestros cambios se mantengan en el control de versiones, lo mejor es crear una rama que tome la  etiqueta como referencia:"
   ]
  },
  {
   "cell_type": "code",
   "execution_count": null,
   "id": "e434e828-d47f-4f78-979b-34f9630913d1",
   "metadata": {
    "tags": []
   },
   "outputs": [],
   "source": [
    "%%bash\n",
    "git checkout -b ramav1.0 v1.0"
   ]
  }
 ],
 "metadata": {
  "kernelspec": {
   "display_name": "Python 3 (ipykernel)",
   "language": "python",
   "name": "python3"
  },
  "language_info": {
   "codemirror_mode": {
    "name": "ipython",
    "version": 3
   },
   "file_extension": ".py",
   "mimetype": "text/x-python",
   "name": "python",
   "nbconvert_exporter": "python",
   "pygments_lexer": "ipython3",
   "version": "3.10.10"
  },
  "vscode": {
   "interpreter": {
    "hash": "0dd6fa3abc8b5e7149b352393c5164f57b1cec79d3e0f994a3fd8126332678a6"
   }
  }
 },
 "nbformat": 4,
 "nbformat_minor": 5
}
