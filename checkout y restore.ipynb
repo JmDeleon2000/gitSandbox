{
 "cells": [
  {
   "cell_type": "markdown",
   "id": "d30653d3-4f74-4167-a46e-399243872924",
   "metadata": {},
   "source": [
    "# Ejemplo de git checkout -- [archivo]"
   ]
  },
  {
   "cell_type": "markdown",
   "id": "dfabc62f-c51e-4617-8294-e33857adf70c",
   "metadata": {},
   "source": [
    "### Iniciar el repositorio "
   ]
  },
  {
   "cell_type": "code",
   "execution_count": 12,
   "id": "2c7a920e-e179-46fb-9e93-f821894b643f",
   "metadata": {
    "tags": []
   },
   "outputs": [
    {
     "name": "stdout",
     "output_type": "stream",
     "text": [
      "Reinitialized existing Git repository in /home/jovyan/.git/\n"
     ]
    }
   ],
   "source": [
    "%%bash\n",
    "git init"
   ]
  },
  {
   "cell_type": "markdown",
   "id": "587c4d7e-0169-46b6-a6f4-ad953246a42b",
   "metadata": {},
   "source": [
    "### Iniciar sesión"
   ]
  },
  {
   "cell_type": "markdown",
   "id": "e9756d4c-d6df-48dd-bb36-bf4357ac51e4",
   "metadata": {},
   "source": [
    "<span style=\"color:red\">⚠️ **(No hay que correrlo si ya lo ha corrido al seguir otro ejemplo durante esta sesión)**</span>"
   ]
  },
  {
   "cell_type": "code",
   "execution_count": 6,
   "id": "be3abaff-efc2-4e84-99ea-2c23f8fac488",
   "metadata": {
    "tags": []
   },
   "outputs": [],
   "source": [
    "%%bash\n",
    "git config --global user.email \"fakemail@example.org\"\n",
    "git config --global user.name  \"exampleuser\""
   ]
  },
  {
   "cell_type": "markdown",
   "id": "1913fdc3-cbe3-4949-aaf7-af67f5aa423f",
   "metadata": {},
   "source": [
    "#### Cambiemos los contenidos de foo.txt y hagamos varios commits"
   ]
  },
  {
   "cell_type": "code",
   "execution_count": 10,
   "id": "170d54f2-fb25-4172-8128-44217635e788",
   "metadata": {
    "tags": []
   },
   "outputs": [
    {
     "name": "stdout",
     "output_type": "stream",
     "text": [
      "[master 814346a] Crear foo.txt\n",
      " 1 file changed, 1 insertion(+), 1 deletion(-)\n",
      "[master 35ebef8] Modificar foo.txt\n",
      " 1 file changed, 26 insertions(+), 1 deletion(-)\n",
      " rewrite foo.txt (100%)\n",
      "[master 96cd817] Modificar foo.txt\n",
      " 1 file changed, 1 insertion(+), 26 deletions(-)\n",
      " rewrite foo.txt (100%)\n"
     ]
    }
   ],
   "source": [
    "%%bash\n",
    "pwd > foo.txt\n",
    "git add foo.txt\n",
    "git commit -a -m \"Crear foo.txt\"\n",
    "\n",
    "printenv > foo.txt\n",
    "git commit -a -m \"Modificar foo.txt\"\n",
    "\n",
    "printenv SHELL > foo.txt\n",
    "git commit -a -m \"Modificar foo.txt\""
   ]
  },
  {
   "cell_type": "markdown",
   "id": "1371c178-d7e9-4051-9317-53a0e715733c",
   "metadata": {},
   "source": [
    "**Ejemplo**<br/>Imaginemos que estamos trabajando en ese archivo y hacemos un cambio que no deseamos. Como por ejemplo, removerlo:"
   ]
  },
  {
   "cell_type": "code",
   "execution_count": 8,
   "id": "209827f9-3fe2-46c2-9afa-27d67bec1b91",
   "metadata": {
    "tags": []
   },
   "outputs": [],
   "source": [
    "%%bash\n",
    "rm foo.txt"
   ]
  },
  {
   "cell_type": "markdown",
   "id": "465c9fbd-27ed-4326-8847-ba4ad1b15de8",
   "metadata": {
    "tags": []
   },
   "source": [
    "Pero ahora que foo.txt existe en un commit, podemos recuperar sus versiones pasadas con <span style=\"font-family: Consolas\">**checkout [commit] -- [archivo]**</span>"
   ]
  },
  {
   "cell_type": "code",
   "execution_count": 9,
   "id": "b4dca15b-db7b-48ae-a80a-a2168a4b65c7",
   "metadata": {
    "tags": []
   },
   "outputs": [],
   "source": [
    "%%bash\n",
    "git checkout HEAD -- foo.txt"
   ]
  },
  {
   "cell_type": "markdown",
   "id": "18ad805f-1e76-40b1-8cc4-7d05f2b4b888",
   "metadata": {},
   "source": [
    "Revise el contenido de de foo.txt     (El archivo está en la barra de la izquiera 👈)<br/>\n",
    "Recuerde que el archivo se había borrado previo a correr el comando anterior."
   ]
  },
  {
   "cell_type": "markdown",
   "id": "abd431df-59bc-4204-a80c-a19479d83206",
   "metadata": {},
   "source": [
    "Notar que **HEAD** se interpreta como el hash del último commit hecho a la rama actual. <br/>\n",
    "Pero **checkout** también no solo funciona con **HEAD**, también se puede usar con **HEAD~1** (el commit padre de **HEAD**) <br/>\n",
    "Esto nos dará la versión de foo.txt presente en ese commit."
   ]
  },
  {
   "cell_type": "code",
   "execution_count": null,
   "id": "4d94592f-b532-479f-8e2f-e720b57a0cb4",
   "metadata": {
    "tags": []
   },
   "outputs": [],
   "source": [
    "%%bash\n",
    "git checkout HEAD~1 -- foo.txt"
   ]
  },
  {
   "cell_type": "markdown",
   "id": "e2e5ffd1-458f-487f-84d5-5c06068d150d",
   "metadata": {
    "tags": []
   },
   "source": [
    "**Importante:** Cierre y vuelva a abrir el archivo desde la barra de la izquierda para actualizar el editor y poder ver los cambios."
   ]
  },
  {
   "cell_type": "markdown",
   "id": "e4839b8a-844b-41f3-970c-5653cb0bdf1a",
   "metadata": {},
   "source": [
    "También es posible recuperar archivos desde el abuelo de **HEAD** con **HEAD~2**"
   ]
  },
  {
   "cell_type": "code",
   "execution_count": null,
   "id": "4bcf5dd9-75b1-4b5d-9ff9-a06225bc3a9a",
   "metadata": {
    "tags": []
   },
   "outputs": [],
   "source": [
    "%%bash\n",
    "git checkout HEAD~2 -- foo.txt"
   ]
  },
  {
   "cell_type": "markdown",
   "id": "eb7e6170-b8ea-4035-9770-edc287754ecf",
   "metadata": {},
   "source": [
    "**Importante:** Cierre y vuelva a abrir el archivo desde la barra de la izquierda para actualizar el editor y poder ver los cambios."
   ]
  },
  {
   "cell_type": "markdown",
   "id": "dcf1801d-5a2b-4a96-8caa-253f79f39d66",
   "metadata": {},
   "source": [
    "#### Finalmente\n",
    "Una vez recuperemos o creemos una versión deseable de foo.txt podemos guardar los cambios en un nuevo *commit*:"
   ]
  },
  {
   "cell_type": "code",
   "execution_count": null,
   "id": "c9d92eb0-3681-4ae2-b0eb-9ce187491cd4",
   "metadata": {},
   "outputs": [],
   "source": [
    "%%bash\n",
    "git commit -a -m \"Versión final de foo.txt\""
   ]
  },
  {
   "cell_type": "markdown",
   "id": "ad1c7565-f434-4b58-80a5-8e9a0d1f8e08",
   "metadata": {},
   "source": [
    "# Ejemplo de git restore -- [archivo]"
   ]
  },
  {
   "cell_type": "markdown",
   "id": "fb6551b6-76f0-49c3-a3d4-3b4ade5fb927",
   "metadata": {},
   "source": [
    "Creamos una nueva versión de foo.txt y lo añadimos a la lista de cambios a incluir en nuestro siguiente *commit* con **git stage**"
   ]
  },
  {
   "cell_type": "code",
   "execution_count": 21,
   "id": "953fac0b-2916-427b-8a96-e825c3702c72",
   "metadata": {
    "tags": []
   },
   "outputs": [],
   "source": [
    "%%bash\n",
    "ls > foo.txt\n",
    "git stage foo.txt"
   ]
  },
  {
   "cell_type": "markdown",
   "id": "f4c48697-3aaa-4691-873c-3f73e741bf36",
   "metadata": {},
   "source": [
    "Veamos lo que reporta <span style=\"font-family: Consolas\">**git status**</span>:"
   ]
  },
  {
   "cell_type": "code",
   "execution_count": 22,
   "id": "4b6c4393-91a1-4944-907e-8a7cb7bcffd4",
   "metadata": {
    "tags": []
   },
   "outputs": [
    {
     "name": "stdout",
     "output_type": "stream",
     "text": [
      "On branch master\n",
      "Changes to be committed:\n",
      "  (use \"git restore --staged <file>...\" to unstage)\n",
      "\tmodified:   foo.txt\n",
      "\n",
      "Untracked files:\n",
      "  (use \"git add <file>...\" to include in what will be committed)\n",
      "\t.bash_logout\n",
      "\t.bashrc\n",
      "\t.conda/\n",
      "\t.gitconfig\n",
      "\t.ipynb_checkpoints/\n",
      "\t.ipython/\n",
      "\t.jupyter/\n",
      "\t.local/\n",
      "\t.npm/\n",
      "\t.profile\n",
      "\t.wget-hsts\n",
      "\tcheckout.ipynb\n",
      "\trestore.ipynb\n",
      "\n"
     ]
    }
   ],
   "source": [
    "%%bash\n",
    "git status"
   ]
  },
  {
   "cell_type": "markdown",
   "id": "0c67172c-4d28-4b99-9189-8085a2fe25bf",
   "metadata": {},
   "source": [
    "Como puede ver foo.txt aparece bajo la sección <span style=\"font-family: Consolas\">**Changes to be committed:**</span><br/>\n",
    "\n",
    "Saquemos el archivo de la lista de cambios a incluir en el siguiente *commit* con <span style=\"font-family: Consolas\">**git restore --staged**</span>"
   ]
  },
  {
   "cell_type": "code",
   "execution_count": 23,
   "id": "e586e998-5d5f-4c2c-af08-0657005b7ef1",
   "metadata": {
    "tags": []
   },
   "outputs": [],
   "source": [
    "%%bash\n",
    "git restore --staged foo.txt"
   ]
  },
  {
   "cell_type": "markdown",
   "id": "dbe5b6c2-dae4-43f3-8b0b-16b72751c176",
   "metadata": {
    "tags": []
   },
   "source": [
    "Veamos nuevamente lo que reporta <span style=\"font-family: Consolas\">**git status**</span>:"
   ]
  },
  {
   "cell_type": "code",
   "execution_count": 24,
   "id": "29137de3-6003-45d0-a460-9fec761c1bbd",
   "metadata": {
    "tags": []
   },
   "outputs": [
    {
     "name": "stdout",
     "output_type": "stream",
     "text": [
      "On branch master\n",
      "Changes not staged for commit:\n",
      "  (use \"git add <file>...\" to update what will be committed)\n",
      "  (use \"git restore <file>...\" to discard changes in working directory)\n",
      "\tmodified:   foo.txt\n",
      "\n",
      "Untracked files:\n",
      "  (use \"git add <file>...\" to include in what will be committed)\n",
      "\t.bash_logout\n",
      "\t.bashrc\n",
      "\t.conda/\n",
      "\t.gitconfig\n",
      "\t.ipynb_checkpoints/\n",
      "\t.ipython/\n",
      "\t.jupyter/\n",
      "\t.local/\n",
      "\t.npm/\n",
      "\t.profile\n",
      "\t.wget-hsts\n",
      "\tcheckout.ipynb\n",
      "\trestore.ipynb\n",
      "\n",
      "no changes added to commit (use \"git add\" and/or \"git commit -a\")\n"
     ]
    }
   ],
   "source": [
    "%%bash\n",
    "git status"
   ]
  },
  {
   "cell_type": "markdown",
   "id": "e0b2a3a9-23c1-4525-b7cc-78ea933792a0",
   "metadata": {},
   "source": [
    "#### Notar que:\n",
    "No se reporta ningún cambio porque se retiró el único archivo que contiene cambios a introducir en ese *commit*"
   ]
  },
  {
   "cell_type": "markdown",
   "id": "61876ed9-0944-4588-ba56-badde97a879f",
   "metadata": {},
   "source": [
    "#### Finalmente\n",
    "Se puede recuperar la versión del *commit* anterior con <span style=\"font-family: Consolas\">**git restore**</span>"
   ]
  },
  {
   "cell_type": "code",
   "execution_count": 26,
   "id": "f6fad7bf-94ce-4f8d-b333-61d836f1b595",
   "metadata": {
    "tags": []
   },
   "outputs": [],
   "source": [
    "%%bash\n",
    "git restore foo.txt"
   ]
  },
  {
   "cell_type": "markdown",
   "id": "94529a28-e583-4a25-b166-03c4f5343620",
   "metadata": {},
   "source": [
    "Eso es equivalente a <span style=\"font-family: Consolas\">**git checkout HEAD -- foo.txt**</span><br/>\n",
    "La diferencia siendo que <span style=\"font-family: Consolas\">**git restore**</span> está limitado a recuperar la versión del último commit."
   ]
  }
 ],
 "metadata": {
  "kernelspec": {
   "display_name": "Python 3 (ipykernel)",
   "language": "python",
   "name": "python3"
  },
  "language_info": {
   "codemirror_mode": {
    "name": "ipython",
    "version": 3
   },
   "file_extension": ".py",
   "mimetype": "text/x-python",
   "name": "python",
   "nbconvert_exporter": "python",
   "pygments_lexer": "ipython3",
   "version": "3.10.9"
  },
  "vscode": {
   "interpreter": {
    "hash": "0dd6fa3abc8b5e7149b352393c5164f57b1cec79d3e0f994a3fd8126332678a6"
   }
  }
 },
 "nbformat": 4,
 "nbformat_minor": 5
}
