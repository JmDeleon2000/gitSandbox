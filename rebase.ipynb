{
 "cells": [
  {
   "cell_type": "markdown",
   "id": "d30653d3-4f74-4167-a46e-399243872924",
   "metadata": {},
   "source": [
    "# Ejemplo de <span style=\"font-family: Consolas\">git rebase</span>"
   ]
  },
  {
   "cell_type": "markdown",
   "id": "82ad59e0-81fe-47e6-acbb-a4bb272c8491",
   "metadata": {},
   "source": [
    "## Operaciones para arrancar o reiniciar el ejemplo (ejecútense según sea necesario)"
   ]
  },
  {
   "cell_type": "markdown",
   "id": "dfabc62f-c51e-4617-8294-e33857adf70c",
   "metadata": {},
   "source": [
    "#### Iniciar el repositorio "
   ]
  },
  {
   "cell_type": "code",
   "execution_count": null,
   "id": "2c7a920e-e179-46fb-9e93-f821894b643f",
   "metadata": {
    "tags": []
   },
   "outputs": [],
   "source": [
    "%%bash\n",
    "git init"
   ]
  },
  {
   "cell_type": "markdown",
   "id": "affc9129-6eec-4584-a118-b386fe70da83",
   "metadata": {},
   "source": [
    "#### Destruir el repositorio"
   ]
  },
  {
   "cell_type": "code",
   "execution_count": null,
   "id": "dea6ec49-492d-41f8-9b6f-24d0728a1f54",
   "metadata": {
    "tags": []
   },
   "outputs": [],
   "source": [
    "%%bash\n",
    "rm -Rfv .git"
   ]
  },
  {
   "cell_type": "markdown",
   "id": "1e4c5d67-954e-492c-8f2a-46666a30743c",
   "metadata": {},
   "source": [
    "#### Borrar <span style=\"font-family: Consolas\">foo.txt</span>"
   ]
  },
  {
   "cell_type": "code",
   "execution_count": null,
   "id": "f7655fa7-8a95-48c7-b6a4-bf99a4e009b1",
   "metadata": {
    "tags": []
   },
   "outputs": [],
   "source": [
    "%%bash\n",
    "rm -fv foo.txt"
   ]
  },
  {
   "cell_type": "markdown",
   "id": "587c4d7e-0169-46b6-a6f4-ad953246a42b",
   "metadata": {},
   "source": [
    "#### Iniciar sesión"
   ]
  },
  {
   "cell_type": "markdown",
   "id": "e9756d4c-d6df-48dd-bb36-bf4357ac51e4",
   "metadata": {},
   "source": [
    "<span style=\"color:red\">⚠️ **(No es necesario ejecutar las siguientes operaciones si ya han sido ejecutadas al seguir otro ejemplo durante esta sesión)**</span>"
   ]
  },
  {
   "cell_type": "code",
   "execution_count": null,
   "id": "be3abaff-efc2-4e84-99ea-2c23f8fac488",
   "metadata": {
    "tags": []
   },
   "outputs": [],
   "source": [
    "%%bash\n",
    "git config --global user.email \"fakemail@example.org\"\n",
    "git config --global user.name  \"exampleuser\""
   ]
  },
  {
   "cell_type": "markdown",
   "id": "1913fdc3-cbe3-4949-aaf7-af67f5aa423f",
   "metadata": {},
   "source": [
    "## Ejemplo\n",
    "Vamos a crear un archivo llamado <span style=\"font-family: Consolas\">foo.txt</span> al usar > para escribir el resultado de <span style=\"font-family: Consolas\">pwd</span> en ese archivo.<br />\n",
    "Añadiremos el archivo al control de versiones con <span style=\"font-family: Consolas\">git add</span> y haremos un <span style=\"font-family: Consolas\">commit</span>."
   ]
  },
  {
   "cell_type": "code",
   "execution_count": null,
   "id": "4214af9c-46f8-4415-86a9-0bec2fdda3eb",
   "metadata": {
    "tags": []
   },
   "outputs": [],
   "source": [
    "%%bash\n",
    "pwd > foo.txt\n",
    "git add foo.txt\n",
    "git commit -a -m \"Crear foo.txt\""
   ]
  },
  {
   "cell_type": "markdown",
   "id": "dfe36ac5-6503-4b21-b41c-3666cbcaad32",
   "metadata": {},
   "source": [
    "Luego usaremos > nuevamente para modificar los contenidos de <span style=\"font-family: Consolas\">foo.txt</span>.<br/>\n",
    "Queremos guardar las variables de entorno del sistema en el que desarrollamos el código. Esto puede servir para establecer un sistema de desarrollo estandarizado para el equipo.<br/>\n",
    "Esto será un nuevo <span style=\"font-family: Consolas\">commit</span>."
   ]
  },
  {
   "cell_type": "code",
   "execution_count": null,
   "id": "170d54f2-fb25-4172-8128-44217635e788",
   "metadata": {
    "tags": []
   },
   "outputs": [],
   "source": [
    "%%bash\n",
    "printenv >> foo.txt\n",
    "git commit -a -m \"env vars impreso en foo.txt\""
   ]
  },
  {
   "cell_type": "markdown",
   "id": "8b0e8c37-e16d-46d3-b2ad-2cb5d7a1d4f6",
   "metadata": {},
   "source": [
    "Consultar el contenido de <span style=\"font-family: Consolas\">foo.txt</span>:"
   ]
  },
  {
   "cell_type": "code",
   "execution_count": null,
   "id": "789636d1-27ef-4e68-9525-2a943463b69b",
   "metadata": {
    "tags": []
   },
   "outputs": [],
   "source": [
    "%%bash\n",
    "cat foo.txt\n"
   ]
  },
  {
   "attachments": {},
   "cell_type": "markdown",
   "id": "14c71a9d-c878-4306-907a-bd212241ee1c",
   "metadata": {},
   "source": [
    "Procedemos a crear una nueva rama llamada <span style=\"font-family: Consolas\">fix1</span> y a \"movernos\" hacia ella (*i.e.,* apuntar HEAD al puntero de la rama)."
   ]
  },
  {
   "cell_type": "code",
   "execution_count": null,
   "id": "c7a65ef6-0e20-4245-bad3-41c70b82d48a",
   "metadata": {
    "tags": []
   },
   "outputs": [],
   "source": [
    "%%bash\n",
    "git switch -C fix1"
   ]
  },
  {
   "cell_type": "markdown",
   "id": "971e5dea-7532-4ab0-b657-678cd4f33c18",
   "metadata": {
    "tags": []
   },
   "source": [
    "Aplicamos un cambio a <span style=\"font-family: Consolas\">foo.txt</span> agregando el texto \"Datos:\" como su primera línea."
   ]
  },
  {
   "cell_type": "code",
   "execution_count": null,
   "id": "e7bc79a7-a099-4d3b-8e20-6839999c6470",
   "metadata": {
    "tags": []
   },
   "outputs": [],
   "source": [
    "%%bash\n",
    "echo 'Datos:' | cat - foo.txt > temp && mv temp foo.txt"
   ]
  },
  {
   "cell_type": "markdown",
   "id": "fde0898c-7fa8-4b95-8128-4dd1b42c1fcb",
   "metadata": {},
   "source": [
    "Consultar el contenido de <span style=\"font-family: Consolas\">foo.txt</span>:"
   ]
  },
  {
   "cell_type": "code",
   "execution_count": null,
   "id": "0bbae850-4242-43b8-87b0-2522be17b06e",
   "metadata": {
    "tags": []
   },
   "outputs": [],
   "source": [
    "%%bash\n",
    "cat foo.txt\n"
   ]
  },
  {
   "cell_type": "markdown",
   "id": "4728d360-33aa-4aa2-a869-fc1cf0cd296a",
   "metadata": {
    "tags": []
   },
   "source": [
    "Comisionamos nuestros cambios:"
   ]
  },
  {
   "cell_type": "code",
   "execution_count": null,
   "id": "c092d5a6-fbe4-4d97-86a0-9bc8d7d320ad",
   "metadata": {
    "tags": []
   },
   "outputs": [],
   "source": [
    "%%bash\n",
    "git commit -a -m \"Agregado encabezado\""
   ]
  },
  {
   "cell_type": "markdown",
   "id": "78db53ef-d772-42dd-b669-dc82d3b9242c",
   "metadata": {
    "tags": []
   },
   "source": [
    "Y ahora regresamos a la rama <span style=\"font-family: Consolas\">master</span>."
   ]
  },
  {
   "cell_type": "code",
   "execution_count": null,
   "id": "a4b75eed-5ba3-44f8-a514-a32b974de498",
   "metadata": {
    "tags": []
   },
   "outputs": [],
   "source": [
    "%%bash\n",
    "git switch master"
   ]
  },
  {
   "cell_type": "markdown",
   "id": "6b517afd-786a-4632-a7a8-76570535d03f",
   "metadata": {
    "tags": []
   },
   "source": [
    "Observemos la bitácora una vez más:"
   ]
  },
  {
   "cell_type": "markdown",
   "id": "9b1dc8d6-2cb4-4ca7-9849-c6127bcd932b",
   "metadata": {},
   "source": [
    "Si consultamos el contenido de <span style=\"font-family: Consolas\">foo.txt</span> veremos que ha retornado a su estado anterior debido a que en <span style=\"font-family: Consolas\">master</span> no se ha realizado el cambio del encabezado \"Datos:\"."
   ]
  },
  {
   "cell_type": "code",
   "execution_count": null,
   "id": "6807c8a3-6a7a-4835-b08c-44ba7ffdde9e",
   "metadata": {
    "tags": []
   },
   "outputs": [],
   "source": [
    "%%bash\n",
    "cat foo.txt\n"
   ]
  },
  {
   "cell_type": "markdown",
   "id": "8d1f056b-9bc9-4afb-b87e-c13678bdbe57",
   "metadata": {
    "tags": []
   },
   "source": [
    "A esta versión del archivo haremos un cambio diferente, agregando una línea al final del mismo."
   ]
  },
  {
   "cell_type": "code",
   "execution_count": null,
   "id": "7e3259e0-b1bd-4644-bec3-4fc3cbd30d25",
   "metadata": {
    "tags": []
   },
   "outputs": [],
   "source": [
    "%%bash\n",
    "echo \"Hello mundo!\" >> foo.txt\n",
    "git commit -a -m \"Agregado Hello Mundo\""
   ]
  },
  {
   "cell_type": "markdown",
   "id": "f266198b-971f-48bd-a071-fe23bbe76152",
   "metadata": {
    "tags": []
   },
   "source": [
    "Si vemos la bitácora de cambios observaremos que ahora hay divergencia entre los <span style=\"font-family: Consolas\">commits</span> de las ramas <span style=\"font-family: Consolas\">master</span> y <span style=\"font-family: Consolas\">fix1</span>:"
   ]
  },
  {
   "cell_type": "code",
   "execution_count": null,
   "id": "86fbf6d8-077b-4790-8014-9d482971e9f5",
   "metadata": {
    "tags": []
   },
   "outputs": [],
   "source": [
    "%%bash\n",
    "git log --pretty --graph --all"
   ]
  },
  {
   "cell_type": "markdown",
   "id": "41129c8b-b7e6-4978-84b7-83f9dbacdcf5",
   "metadata": {
    "tags": []
   },
   "source": [
    "#### Elección"
   ]
  },
  {
   "cell_type": "markdown",
   "id": "e75775d4-682e-418f-9398-0fdc65301e66",
   "metadata": {
    "tags": []
   },
   "source": [
    "Ahora tenemos dos posibles caminos: registrar la existencia de la rama en el historial del repositorio mediante un *merge* o registrar los cambios hechos en la rama como un <span style=\"font-family: Consolas\">commit</span> más en <span style=\"font-family: Consolas\">master</span>. Ejecútese la siguiente celda para realizar *merge*:"
   ]
  },
  {
   "cell_type": "code",
   "execution_count": null,
   "id": "b37f912e-74a5-401f-a727-92aac2c71a7e",
   "metadata": {
    "tags": []
   },
   "outputs": [],
   "source": [
    "%%bash\n",
    "git merge fix1"
   ]
  },
  {
   "cell_type": "markdown",
   "id": "29129821-0803-448e-8dbb-331dd053d77c",
   "metadata": {
    "tags": []
   },
   "source": [
    "Ejecútese la siguiente celda para realizar <span style=\"font-family: Consolas\">rebase</span> y registrar los cambios en <span style=\"font-family: Consolas\">fix1</span> como cambios realizados sobre <span style=\"font-family: Consolas\">master</span>:"
   ]
  },
  {
   "cell_type": "code",
   "execution_count": null,
   "id": "db21568b-c145-4206-b383-dc231e4714bb",
   "metadata": {
    "tags": []
   },
   "outputs": [],
   "source": [
    "%%bash\n",
    "git switch fix1\n",
    "git rebase master"
   ]
  },
  {
   "cell_type": "markdown",
   "id": "4ab85234-571f-42ec-ab96-159bd429d406",
   "metadata": {
    "tags": []
   },
   "source": [
    "Observemos la bitácora una vez más. Dependiendo de la operación que hayamos realizado veremos una secuencia lineal de <span style=\"font-family: Consolas\">commits</span> o una donde una rama emerge y vuelve a entrar a <span style=\"font-family: Consolas\">master</span>:"
   ]
  },
  {
   "cell_type": "code",
   "execution_count": null,
   "id": "c80da34b-5144-45ff-9069-20a79edb9411",
   "metadata": {
    "tags": []
   },
   "outputs": [],
   "source": [
    "%%bash\n",
    "git log --pretty --graph --all"
   ]
  },
  {
   "cell_type": "markdown",
   "id": "9d2db4d9-6deb-49e2-8715-aa213e301ff5",
   "metadata": {},
   "source": [
    "Consultar el contenido de <span style=\"font-family: Consolas\">foo.txt</span> (nótense ambos cambios con respecto al archivo antes de crear la rama <span style=\"font-family: Consolas\">fix1</span>):"
   ]
  },
  {
   "cell_type": "code",
   "execution_count": null,
   "id": "f169d0db-74c9-47ce-beed-faf04e532702",
   "metadata": {
    "tags": []
   },
   "outputs": [],
   "source": [
    "%%bash\n",
    "cat foo.txt\n"
   ]
  },
  {
   "cell_type": "markdown",
   "id": "422bff7c-c73d-4c55-9103-028262ea46a2",
   "metadata": {},
   "source": [
    "### Conlusión\n",
    "¡Pudimos usar <span style=\"font-family: Consolas\">**git rebase**</span> para integrar cambios a la rama principal de un repositorio! <br/>\n",
    "Usar *rebasing* permite dejar un historial de cambios más limpio y facilita el trabajo de integración para quienes mantienen el repositorio principal del proyecto al que se contribuye.<br/><br>\n",
    "⚠️ Usar <span style=\"font-family: Consolas\">git rebase</span> es una operación que generaliza el trabajo de <span style=\"font-family: Consolas\">git commit --ammend</span>, que es alterar el historial de <span style=\"font-family: Consolas\">commits</span> realizados en un repositorio. Efectuar *rebasing* de cambios ya comisionados a un repositorio remoto puede provocar problemas de sincronización para otras personas trabajando sobre esos cambios. Estos problemas incluyen la reintroducción de <span style=\"font-family: Consolas\">commits</span> indeseados y pérdida de tiempo repitiendo *merges*, además del trabajo que requiere limpiar y ordenar el repositorio."
   ]
  }
 ],
 "metadata": {
  "kernelspec": {
   "display_name": "Python 3 (ipykernel)",
   "language": "python",
   "name": "python3"
  },
  "language_info": {
   "codemirror_mode": {
    "name": "ipython",
    "version": 3
   },
   "file_extension": ".py",
   "mimetype": "text/x-python",
   "name": "python",
   "nbconvert_exporter": "python",
   "pygments_lexer": "ipython3",
   "version": "3.10.10"
  },
  "vscode": {
   "interpreter": {
    "hash": "0dd6fa3abc8b5e7149b352393c5164f57b1cec79d3e0f994a3fd8126332678a6"
   }
  }
 },
 "nbformat": 4,
 "nbformat_minor": 5
}
