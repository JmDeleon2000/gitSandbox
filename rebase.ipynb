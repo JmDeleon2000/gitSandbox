{
 "cells": [
  {
   "cell_type": "markdown",
   "id": "d30653d3-4f74-4167-a46e-399243872924",
   "metadata": {},
   "source": [
    "# Ejemplo de <span style=\"font-family: Consolas\">git rebase</span>"
   ]
  },
  {
   "cell_type": "markdown",
   "id": "dfabc62f-c51e-4617-8294-e33857adf70c",
   "metadata": {},
   "source": [
    "### Iniciar el repositorio "
   ]
  },
  {
   "cell_type": "code",
   "execution_count": 1,
   "id": "2c7a920e-e179-46fb-9e93-f821894b643f",
   "metadata": {
    "tags": []
   },
   "outputs": [
    {
     "name": "stderr",
     "output_type": "stream",
     "text": [
      "hint: Using 'master' as the name for the initial branch. This default branch name\n",
      "hint: is subject to change. To configure the initial branch name to use in all\n",
      "hint: of your new repositories, which will suppress this warning, call:\n",
      "hint: \n",
      "hint: \tgit config --global init.defaultBranch <name>\n",
      "hint: \n",
      "hint: Names commonly chosen instead of 'master' are 'main', 'trunk' and\n",
      "hint: 'development'. The just-created branch can be renamed via this command:\n",
      "hint: \n",
      "hint: \tgit branch -m <name>\n"
     ]
    },
    {
     "name": "stdout",
     "output_type": "stream",
     "text": [
      "Initialized empty Git repository in /home/jovyan/.git/\n"
     ]
    }
   ],
   "source": [
    "%%bash\n",
    "git init"
   ]
  },
  {
   "cell_type": "markdown",
   "id": "587c4d7e-0169-46b6-a6f4-ad953246a42b",
   "metadata": {},
   "source": [
    "### Iniciar sesión"
   ]
  },
  {
   "cell_type": "markdown",
   "id": "e9756d4c-d6df-48dd-bb36-bf4357ac51e4",
   "metadata": {},
   "source": [
    "<span style=\"color:red\">⚠️ **(No hay que correrlo si ya lo ha corrido al seguir otro ejemplo durante esta sesión)**</span>"
   ]
  },
  {
   "cell_type": "code",
   "execution_count": 2,
   "id": "be3abaff-efc2-4e84-99ea-2c23f8fac488",
   "metadata": {
    "tags": []
   },
   "outputs": [],
   "source": [
    "%%bash\n",
    "git config --global user.email \"fakemail@example.org\"\n",
    "git config --global user.name  \"exampleuser\""
   ]
  },
  {
   "cell_type": "markdown",
   "id": "1913fdc3-cbe3-4949-aaf7-af67f5aa423f",
   "metadata": {},
   "source": [
    "**Ejemplo**<br />\n",
    "Vamos a crear un archivo llamado foo.txt al usar > para escribir el resultado de pwd en ese archivo<br />\n",
    "Añadiremos el archivo al control de versiones con git add y haremos un commit "
   ]
  },
  {
   "cell_type": "code",
   "execution_count": 3,
   "id": "4214af9c-46f8-4415-86a9-0bec2fdda3eb",
   "metadata": {
    "tags": []
   },
   "outputs": [
    {
     "name": "stdout",
     "output_type": "stream",
     "text": [
      "[master (root-commit) d113245] Crear foo.txt\n",
      " 1 file changed, 1 insertion(+)\n",
      " create mode 100644 foo.txt\n"
     ]
    }
   ],
   "source": [
    "%%bash\n",
    "pwd > foo.txt\n",
    "git add foo.txt\n",
    "git commit -a -m \"Crear foo.txt\""
   ]
  },
  {
   "cell_type": "markdown",
   "id": "dfe36ac5-6503-4b21-b41c-3666cbcaad32",
   "metadata": {},
   "source": [
    "Luego usaremos > nuevamente para modificar los contenidos de foo.txt <br/>\n",
    "Queremos guardar las *environment variables* del sistema en el que desarrollamos el código.<br/>\n",
    "Esto puede servir para establecer un sistema de desarrollo estandarizado para el equipo.<br/>\n",
    "Esto será un nuevo commit"
   ]
  },
  {
   "cell_type": "code",
   "execution_count": 4,
   "id": "170d54f2-fb25-4172-8128-44217635e788",
   "metadata": {
    "tags": []
   },
   "outputs": [
    {
     "name": "stdout",
     "output_type": "stream",
     "text": [
      "[master 2aa17c9] env vars impreso en foo.txt\n",
      " 1 file changed, 26 insertions(+)\n"
     ]
    }
   ],
   "source": [
    "%%bash\n",
    "printenv >> foo.txt\n",
    "git commit -a -m \"env vars impreso en foo.txt\""
   ]
  },
  {
   "cell_type": "code",
   "execution_count": 5,
   "id": "789636d1-27ef-4e68-9525-2a943463b69b",
   "metadata": {
    "tags": []
   },
   "outputs": [
    {
     "name": "stdout",
     "output_type": "stream",
     "text": [
      "/home/jovyan\n",
      "SHELL=/bin/bash\n",
      "HOSTNAME=f5ebce01ab34\n",
      "LANGUAGE=en_US.UTF-8\n",
      "NB_UID=1000\n",
      "PWD=/home/jovyan\n",
      "JPY_SESSION_NAME=/home/jovyan/rebase.ipynb\n",
      "HOME=/home/jovyan\n",
      "LANG=en_US.UTF-8\n",
      "NB_GID=100\n",
      "FORCE_COLOR=1\n",
      "PYDEVD_USE_FRAME_EVAL=NO\n",
      "CLICOLOR=1\n",
      "CLICOLOR_FORCE=1\n",
      "JPY_PARENT_PID=7\n",
      "TERM=xterm-color\n",
      "GIT_PAGER=cat\n",
      "SHLVL=1\n",
      "PAGER=cat\n",
      "CONDA_DIR=/opt/conda\n",
      "MPLBACKEND=module://matplotlib_inline.backend_inline\n",
      "JUPYTER_PORT=8888\n",
      "NB_USER=jovyan\n",
      "LC_ALL=en_US.UTF-8\n",
      "PATH=/opt/conda/bin:/usr/local/sbin:/usr/local/bin:/usr/sbin:/usr/bin:/sbin:/bin\n",
      "DEBIAN_FRONTEND=noninteractive\n",
      "_=/usr/bin/printenv\n"
     ]
    }
   ],
   "source": [
    "%%bash\n",
    "cat foo.txt\n"
   ]
  },
  {
   "cell_type": "markdown",
   "id": "14c71a9d-c878-4306-907a-bd212241ee1c",
   "metadata": {},
   "source": [
    "Lorem ipsum"
   ]
  },
  {
   "cell_type": "code",
   "execution_count": 6,
   "id": "c7a65ef6-0e20-4245-bad3-41c70b82d48a",
   "metadata": {
    "tags": []
   },
   "outputs": [
    {
     "name": "stderr",
     "output_type": "stream",
     "text": [
      "Switched to a new branch 'fix1'\n"
     ]
    }
   ],
   "source": [
    "%%bash\n",
    "git switch -C fix1"
   ]
  },
  {
   "cell_type": "markdown",
   "id": "971e5dea-7532-4ab0-b657-678cd4f33c18",
   "metadata": {
    "tags": []
   },
   "source": [
    "Observemos la bitácora de cambios:"
   ]
  },
  {
   "cell_type": "code",
   "execution_count": 7,
   "id": "e7bc79a7-a099-4d3b-8e20-6839999c6470",
   "metadata": {
    "tags": []
   },
   "outputs": [],
   "source": [
    "%%bash\n",
    "echo 'Datos:' | cat - foo.txt > temp && mv temp foo.txt"
   ]
  },
  {
   "cell_type": "code",
   "execution_count": 9,
   "id": "0bbae850-4242-43b8-87b0-2522be17b06e",
   "metadata": {
    "tags": []
   },
   "outputs": [
    {
     "name": "stdout",
     "output_type": "stream",
     "text": [
      "Datos:\n",
      "/home/jovyan\n",
      "SHELL=/bin/bash\n",
      "HOSTNAME=f5ebce01ab34\n",
      "LANGUAGE=en_US.UTF-8\n",
      "NB_UID=1000\n",
      "PWD=/home/jovyan\n",
      "JPY_SESSION_NAME=/home/jovyan/rebase.ipynb\n",
      "HOME=/home/jovyan\n",
      "LANG=en_US.UTF-8\n",
      "NB_GID=100\n",
      "FORCE_COLOR=1\n",
      "PYDEVD_USE_FRAME_EVAL=NO\n",
      "CLICOLOR=1\n",
      "CLICOLOR_FORCE=1\n",
      "JPY_PARENT_PID=7\n",
      "TERM=xterm-color\n",
      "GIT_PAGER=cat\n",
      "SHLVL=1\n",
      "PAGER=cat\n",
      "CONDA_DIR=/opt/conda\n",
      "MPLBACKEND=module://matplotlib_inline.backend_inline\n",
      "JUPYTER_PORT=8888\n",
      "NB_USER=jovyan\n",
      "LC_ALL=en_US.UTF-8\n",
      "PATH=/opt/conda/bin:/usr/local/sbin:/usr/local/bin:/usr/sbin:/usr/bin:/sbin:/bin\n",
      "DEBIAN_FRONTEND=noninteractive\n",
      "_=/usr/bin/printenv\n"
     ]
    }
   ],
   "source": [
    "%%bash\n",
    "cat foo.txt\n"
   ]
  },
  {
   "cell_type": "markdown",
   "id": "4728d360-33aa-4aa2-a869-fc1cf0cd296a",
   "metadata": {
    "tags": []
   },
   "source": [
    "<br/>\n",
    "Podemos ver que el commit que hicimos antes, el que tiene como título <span style=\"color:#ce9178\">\"env vars impreso en foo.txt\"</span>, ya no está.<br/>\n",
    "Fue reemplazado por nuestro nuevo commit, el que tiene <span style=\"color:#ce9178\">\"Oops\"</span> como título.<br/><br/>\n",
    "    Pero entonces nos damos cuenta de que <span style=\"color:#ce9178\">\"Oops\"</span> no es un buen nombre para un commit, puesto que no da información útil."
   ]
  },
  {
   "cell_type": "markdown",
   "id": "60bbaaf8-00e5-4577-84ea-6cfd26081b3a",
   "metadata": {},
   "source": [
    "Eso no es problema pues podemos volver a usar <span style=\"font-family: Consolas\">**git commit --amend**</span> para corregir el mensaje"
   ]
  },
  {
   "cell_type": "code",
   "execution_count": 10,
   "id": "c092d5a6-fbe4-4d97-86a0-9bc8d7d320ad",
   "metadata": {
    "tags": []
   },
   "outputs": [
    {
     "name": "stdout",
     "output_type": "stream",
     "text": [
      "[fix1 a201ed9] Agregado encabezado\n",
      " 1 file changed, 1 insertion(+)\n"
     ]
    }
   ],
   "source": [
    "%%bash\n",
    "git commit -a -m \"Agregado encabezado\""
   ]
  },
  {
   "cell_type": "markdown",
   "id": "78db53ef-d772-42dd-b669-dc82d3b9242c",
   "metadata": {
    "tags": []
   },
   "source": [
    "Observemos la bitácora una vez más:"
   ]
  },
  {
   "cell_type": "code",
   "execution_count": 11,
   "id": "a4b75eed-5ba3-44f8-a514-a32b974de498",
   "metadata": {
    "tags": []
   },
   "outputs": [
    {
     "name": "stderr",
     "output_type": "stream",
     "text": [
      "Switched to branch 'master'\n"
     ]
    }
   ],
   "source": [
    "%%bash\n",
    "git switch master"
   ]
  },
  {
   "cell_type": "markdown",
   "id": "6b517afd-786a-4632-a7a8-76570535d03f",
   "metadata": {
    "tags": []
   },
   "source": [
    "Observemos la bitácora una vez más:"
   ]
  },
  {
   "cell_type": "code",
   "execution_count": 12,
   "id": "7e3259e0-b1bd-4644-bec3-4fc3cbd30d25",
   "metadata": {
    "tags": []
   },
   "outputs": [
    {
     "name": "stdout",
     "output_type": "stream",
     "text": [
      "[master 28a4c18] Agregado Hello Mundo\n",
      " 1 file changed, 1 insertion(+)\n"
     ]
    }
   ],
   "source": [
    "%%bash\n",
    "echo \"Hello mundo!\" >> foo.txt\n",
    "git commit -a -m \"Agregado Hello Mundo\""
   ]
  },
  {
   "cell_type": "code",
   "execution_count": 13,
   "id": "6807c8a3-6a7a-4835-b08c-44ba7ffdde9e",
   "metadata": {
    "tags": []
   },
   "outputs": [
    {
     "name": "stdout",
     "output_type": "stream",
     "text": [
      "/home/jovyan\n",
      "SHELL=/bin/bash\n",
      "HOSTNAME=f5ebce01ab34\n",
      "LANGUAGE=en_US.UTF-8\n",
      "NB_UID=1000\n",
      "PWD=/home/jovyan\n",
      "JPY_SESSION_NAME=/home/jovyan/rebase.ipynb\n",
      "HOME=/home/jovyan\n",
      "LANG=en_US.UTF-8\n",
      "NB_GID=100\n",
      "FORCE_COLOR=1\n",
      "PYDEVD_USE_FRAME_EVAL=NO\n",
      "CLICOLOR=1\n",
      "CLICOLOR_FORCE=1\n",
      "JPY_PARENT_PID=7\n",
      "TERM=xterm-color\n",
      "GIT_PAGER=cat\n",
      "SHLVL=1\n",
      "PAGER=cat\n",
      "CONDA_DIR=/opt/conda\n",
      "MPLBACKEND=module://matplotlib_inline.backend_inline\n",
      "JUPYTER_PORT=8888\n",
      "NB_USER=jovyan\n",
      "LC_ALL=en_US.UTF-8\n",
      "PATH=/opt/conda/bin:/usr/local/sbin:/usr/local/bin:/usr/sbin:/usr/bin:/sbin:/bin\n",
      "DEBIAN_FRONTEND=noninteractive\n",
      "_=/usr/bin/printenv\n",
      "Hello mundo!\n"
     ]
    }
   ],
   "source": [
    "%%bash\n",
    "cat foo.txt\n"
   ]
  },
  {
   "cell_type": "markdown",
   "id": "8d1f056b-9bc9-4afb-b87e-c13678bdbe57",
   "metadata": {
    "tags": []
   },
   "source": [
    "Observemos la bitácora una vez más:"
   ]
  },
  {
   "cell_type": "code",
   "execution_count": 16,
   "id": "86fbf6d8-077b-4790-8014-9d482971e9f5",
   "metadata": {
    "tags": []
   },
   "outputs": [
    {
     "name": "stdout",
     "output_type": "stream",
     "text": [
      "* commit a201ed93320e44f13cfd91e9e31e24d62b6f9b9c\n",
      "| Author: exampleuser <fakemail@example.org>\n",
      "| Date:   Mon Feb 20 23:20:51 2023 +0000\n",
      "| \n",
      "|     Agregado encabezado\n",
      "| \n",
      "* commit 2aa17c918c70ff3aa9a1bc0f20e2f930cd2979e8\n",
      "| Author: exampleuser <fakemail@example.org>\n",
      "| Date:   Mon Feb 20 23:19:50 2023 +0000\n",
      "| \n",
      "|     env vars impreso en foo.txt\n",
      "| \n",
      "* commit d1132457a1cc73984145d75afc776845916ad844\n",
      "  Author: exampleuser <fakemail@example.org>\n",
      "  Date:   Mon Feb 20 23:19:47 2023 +0000\n",
      "  \n",
      "      Crear foo.txt\n"
     ]
    }
   ],
   "source": [
    "%%bash\n",
    "git log --pretty --graph"
   ]
  },
  {
   "cell_type": "markdown",
   "id": "e75775d4-682e-418f-9398-0fdc65301e66",
   "metadata": {
    "tags": []
   },
   "source": [
    "Observemos la bitácora una vez más:"
   ]
  },
  {
   "cell_type": "code",
   "execution_count": 17,
   "id": "b37f912e-74a5-401f-a727-92aac2c71a7e",
   "metadata": {
    "tags": []
   },
   "outputs": [
    {
     "name": "stderr",
     "output_type": "stream",
     "text": [
      "\u001b[KSuccessfully rebased and updated refs/heads/fix1.\n"
     ]
    }
   ],
   "source": [
    "%%bash\n",
    "git merge fix1"
   ]
  },
  {
   "cell_type": "code",
   "execution_count": 15,
   "id": "db21568b-c145-4206-b383-dc231e4714bb",
   "metadata": {
    "tags": []
   },
   "outputs": [
    {
     "name": "stderr",
     "output_type": "stream",
     "text": [
      "Switched to branch 'fix1'\n"
     ]
    }
   ],
   "source": [
    "%%bash\n",
    "git switch fix1"
   ]
  },
  {
   "cell_type": "markdown",
   "id": "29129821-0803-448e-8dbb-331dd053d77c",
   "metadata": {
    "tags": []
   },
   "source": [
    "Observemos la bitácora una vez más:"
   ]
  },
  {
   "cell_type": "code",
   "execution_count": 17,
   "id": "e6c65a58-b928-4c65-ad6c-982c6ffce640",
   "metadata": {
    "tags": []
   },
   "outputs": [
    {
     "name": "stderr",
     "output_type": "stream",
     "text": [
      "\u001b[KSuccessfully rebased and updated refs/heads/fix1.\n"
     ]
    }
   ],
   "source": [
    "%%bash\n",
    "git rebase master"
   ]
  },
  {
   "cell_type": "markdown",
   "id": "4ab85234-571f-42ec-ab96-159bd429d406",
   "metadata": {
    "tags": []
   },
   "source": [
    "Observemos la bitácora una vez más:"
   ]
  },
  {
   "cell_type": "code",
   "execution_count": 18,
   "id": "c80da34b-5144-45ff-9069-20a79edb9411",
   "metadata": {
    "tags": []
   },
   "outputs": [
    {
     "name": "stdout",
     "output_type": "stream",
     "text": [
      "* commit 72c8fb362c3ed43ef438ad947299845944fdff5d\n",
      "| Author: exampleuser <fakemail@example.org>\n",
      "| Date:   Mon Feb 20 23:20:51 2023 +0000\n",
      "| \n",
      "|     Agregado encabezado\n",
      "| \n",
      "* commit 28a4c18c6e762ea58e3b5e7af04968a977fd5e4f\n",
      "| Author: exampleuser <fakemail@example.org>\n",
      "| Date:   Mon Feb 20 23:20:56 2023 +0000\n",
      "| \n",
      "|     Agregado Hello Mundo\n",
      "| \n",
      "* commit 2aa17c918c70ff3aa9a1bc0f20e2f930cd2979e8\n",
      "| Author: exampleuser <fakemail@example.org>\n",
      "| Date:   Mon Feb 20 23:19:50 2023 +0000\n",
      "| \n",
      "|     env vars impreso en foo.txt\n",
      "| \n",
      "* commit d1132457a1cc73984145d75afc776845916ad844\n",
      "  Author: exampleuser <fakemail@example.org>\n",
      "  Date:   Mon Feb 20 23:19:47 2023 +0000\n",
      "  \n",
      "      Crear foo.txt\n"
     ]
    }
   ],
   "source": [
    "%%bash\n",
    "git log --pretty --graph"
   ]
  },
  {
   "cell_type": "code",
   "execution_count": 19,
   "id": "f169d0db-74c9-47ce-beed-faf04e532702",
   "metadata": {
    "tags": []
   },
   "outputs": [
    {
     "name": "stdout",
     "output_type": "stream",
     "text": [
      "Datos:\n",
      "/home/jovyan\n",
      "SHELL=/bin/bash\n",
      "HOSTNAME=f5ebce01ab34\n",
      "LANGUAGE=en_US.UTF-8\n",
      "NB_UID=1000\n",
      "PWD=/home/jovyan\n",
      "JPY_SESSION_NAME=/home/jovyan/rebase.ipynb\n",
      "HOME=/home/jovyan\n",
      "LANG=en_US.UTF-8\n",
      "NB_GID=100\n",
      "FORCE_COLOR=1\n",
      "PYDEVD_USE_FRAME_EVAL=NO\n",
      "CLICOLOR=1\n",
      "CLICOLOR_FORCE=1\n",
      "JPY_PARENT_PID=7\n",
      "TERM=xterm-color\n",
      "GIT_PAGER=cat\n",
      "SHLVL=1\n",
      "PAGER=cat\n",
      "CONDA_DIR=/opt/conda\n",
      "MPLBACKEND=module://matplotlib_inline.backend_inline\n",
      "JUPYTER_PORT=8888\n",
      "NB_USER=jovyan\n",
      "LC_ALL=en_US.UTF-8\n",
      "PATH=/opt/conda/bin:/usr/local/sbin:/usr/local/bin:/usr/sbin:/usr/bin:/sbin:/bin\n",
      "DEBIAN_FRONTEND=noninteractive\n",
      "_=/usr/bin/printenv\n",
      "Hello mundo!\n"
     ]
    }
   ],
   "source": [
    "%%bash\n",
    "cat foo.txt\n"
   ]
  },
  {
   "cell_type": "markdown",
   "id": "422bff7c-c73d-4c55-9103-028262ea46a2",
   "metadata": {},
   "source": [
    "### Conlusión\n",
    "¡Pudimos usar <span style=\"font-family: Consolas\">**git commit --amend**</span> para corregir errores tanto en el contenido como en la forma de nuestro commit! <br/>\n",
    "El beneficio de hacer esto en vez de solo crear un nuevo commit que corrija los errores es que **--amend** reduce el ruido creado por tener commits que se tratan de correcciones menores y no de cambios importantes<br/>\n",
    "⚠️ Hay que tener cuidado de no hacer esto con commits a los que ya se les ha hecho push. Eso puede confundir a los colegas y inclusive dañar su trabajo."
   ]
  }
 ],
 "metadata": {
  "kernelspec": {
   "display_name": "Python 3 (ipykernel)",
   "language": "python",
   "name": "python3"
  },
  "language_info": {
   "codemirror_mode": {
    "name": "ipython",
    "version": 3
   },
   "file_extension": ".py",
   "mimetype": "text/x-python",
   "name": "python",
   "nbconvert_exporter": "python",
   "pygments_lexer": "ipython3",
   "version": "3.10.9"
  },
  "vscode": {
   "interpreter": {
    "hash": "0dd6fa3abc8b5e7149b352393c5164f57b1cec79d3e0f994a3fd8126332678a6"
   }
  }
 },
 "nbformat": 4,
 "nbformat_minor": 5
}
