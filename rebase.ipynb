{
 "cells": [
  {
   "cell_type": "markdown",
   "id": "d30653d3-4f74-4167-a46e-399243872924",
   "metadata": {},
   "source": [
    "# Ejemplo de <span style=\"font-family: Consolas\">git rebase</span>"
   ]
  },
  {
   "cell_type": "markdown",
   "id": "82ad59e0-81fe-47e6-acbb-a4bb272c8491",
   "metadata": {},
   "source": [
    "## Operaciones para arrancar o reiniciar el ejemplo (ejecútense según sea necesario)"
   ]
  },
  {
   "cell_type": "markdown",
   "id": "dfabc62f-c51e-4617-8294-e33857adf70c",
   "metadata": {},
   "source": [
    "#### Iniciar el repositorio "
   ]
  },
  {
   "cell_type": "code",
   "execution_count": 23,
   "id": "2c7a920e-e179-46fb-9e93-f821894b643f",
   "metadata": {
    "tags": []
   },
   "outputs": [
    {
     "name": "stderr",
     "output_type": "stream",
     "text": [
      "hint: Using 'master' as the name for the initial branch. This default branch name\n",
      "hint: is subject to change. To configure the initial branch name to use in all\n",
      "hint: of your new repositories, which will suppress this warning, call:\n",
      "hint: \n",
      "hint: \tgit config --global init.defaultBranch <name>\n",
      "hint: \n",
      "hint: Names commonly chosen instead of 'master' are 'main', 'trunk' and\n",
      "hint: 'development'. The just-created branch can be renamed via this command:\n",
      "hint: \n",
      "hint: \tgit branch -m <name>\n"
     ]
    },
    {
     "name": "stdout",
     "output_type": "stream",
     "text": [
      "Initialized empty Git repository in /home/jovyan/.git/\n"
     ]
    }
   ],
   "source": [
    "%%bash\n",
    "git init"
   ]
  },
  {
   "cell_type": "markdown",
   "id": "affc9129-6eec-4584-a118-b386fe70da83",
   "metadata": {},
   "source": [
    "#### Destruir el repositorio"
   ]
  },
  {
   "cell_type": "code",
   "execution_count": 21,
   "id": "dea6ec49-492d-41f8-9b6f-24d0728a1f54",
   "metadata": {
    "tags": []
   },
   "outputs": [
    {
     "name": "stdout",
     "output_type": "stream",
     "text": [
      "removed '.git/index'\n",
      "removed '.git/HEAD'\n",
      "removed directory '.git/branches'\n",
      "removed '.git/config'\n",
      "removed '.git/description'\n",
      "removed '.git/hooks/fsmonitor-watchman.sample'\n",
      "removed '.git/hooks/push-to-checkout.sample'\n",
      "removed '.git/hooks/update.sample'\n",
      "removed '.git/hooks/pre-applypatch.sample'\n",
      "removed '.git/hooks/pre-push.sample'\n",
      "removed '.git/hooks/pre-receive.sample'\n",
      "removed '.git/hooks/pre-merge-commit.sample'\n",
      "removed '.git/hooks/applypatch-msg.sample'\n",
      "removed '.git/hooks/pre-commit.sample'\n",
      "removed '.git/hooks/prepare-commit-msg.sample'\n",
      "removed '.git/hooks/commit-msg.sample'\n",
      "removed '.git/hooks/post-update.sample'\n",
      "removed '.git/hooks/pre-rebase.sample'\n",
      "removed directory '.git/hooks'\n",
      "removed '.git/COMMIT_EDITMSG'\n",
      "removed '.git/objects/52/9a767593c96ff81706acdda4ece0ba65583c06'\n",
      "removed directory '.git/objects/52'\n",
      "removed '.git/objects/27/f66b77520a1700aafb2a5e1671a944d2f9d7fc'\n",
      "removed directory '.git/objects/27'\n",
      "removed '.git/objects/ad/a278fcc85dd08dd45ac7c299bc2044caaadaf7'\n",
      "removed directory '.git/objects/ad'\n",
      "removed '.git/objects/a8/f1e3bbf97dae2e20302b33e5c0385845592b80'\n",
      "removed directory '.git/objects/a8'\n",
      "removed directory '.git/objects/pack'\n",
      "removed '.git/objects/89/92e816bb17e61b976c194c63a5427e5fe59deb'\n",
      "removed directory '.git/objects/89'\n",
      "removed '.git/objects/40/2095ece364e18fc37f84abb601737f3c4a181a'\n",
      "removed directory '.git/objects/40'\n",
      "removed '.git/objects/76/bcc1f6de5a8a8a0ee19e010344ada7757cce5e'\n",
      "removed directory '.git/objects/76'\n",
      "removed '.git/objects/11/eca7cbc144ee5f08d16cee077ce837484b7d31'\n",
      "removed directory '.git/objects/11'\n",
      "removed '.git/objects/b2/c880ac705fdd7ce59c6c27791fb3739f216949'\n",
      "removed directory '.git/objects/b2'\n",
      "removed '.git/objects/09/617fce967c393e7dda4d2d96b5af547fb21166'\n",
      "removed directory '.git/objects/09'\n",
      "removed directory '.git/objects/info'\n",
      "removed '.git/objects/b6/3077b53fccec2d72bf6f0a775976d62861b23d'\n",
      "removed directory '.git/objects/b6'\n",
      "removed '.git/objects/1a/606407741721bbe66b05fd5f7fe21ec2930758'\n",
      "removed directory '.git/objects/1a'\n",
      "removed '.git/objects/f1/b6418481675f99388143b6d9a702876c613baf'\n",
      "removed directory '.git/objects/f1'\n",
      "removed '.git/objects/2c/70bd21bffb8948ad5f5b96b809e4647c83febd'\n",
      "removed directory '.git/objects/2c'\n",
      "removed '.git/objects/59/cf74e70f9fabdf55527b175fdd28b39f6bca81'\n",
      "removed directory '.git/objects/59'\n",
      "removed directory '.git/objects'\n",
      "removed '.git/info/exclude'\n",
      "removed directory '.git/info'\n",
      "removed '.git/ORIG_HEAD'\n",
      "removed directory '.git/refs/tags'\n",
      "removed '.git/refs/heads/master'\n",
      "removed '.git/refs/heads/fix1'\n",
      "removed directory '.git/refs/heads'\n",
      "removed directory '.git/refs'\n",
      "removed '.git/logs/HEAD'\n",
      "removed '.git/logs/refs/heads/master'\n",
      "removed '.git/logs/refs/heads/fix1'\n",
      "removed directory '.git/logs/refs/heads'\n",
      "removed directory '.git/logs/refs'\n",
      "removed directory '.git/logs'\n",
      "removed directory '.git'\n"
     ]
    }
   ],
   "source": [
    "%%bash\n",
    "rm -Rfv .git"
   ]
  },
  {
   "cell_type": "markdown",
   "id": "1e4c5d67-954e-492c-8f2a-46666a30743c",
   "metadata": {},
   "source": [
    "#### Borrar <span style=\"font-family: Consolas\">foo.txt</span>"
   ]
  },
  {
   "cell_type": "code",
   "execution_count": 22,
   "id": "f7655fa7-8a95-48c7-b6a4-bf99a4e009b1",
   "metadata": {
    "tags": []
   },
   "outputs": [
    {
     "name": "stdout",
     "output_type": "stream",
     "text": [
      "removed 'foo.txt'\n"
     ]
    }
   ],
   "source": [
    "%%bash\n",
    "rm -fv foo.txt"
   ]
  },
  {
   "cell_type": "markdown",
   "id": "587c4d7e-0169-46b6-a6f4-ad953246a42b",
   "metadata": {},
   "source": [
    "#### Iniciar sesión"
   ]
  },
  {
   "cell_type": "markdown",
   "id": "e9756d4c-d6df-48dd-bb36-bf4357ac51e4",
   "metadata": {},
   "source": [
    "<span style=\"color:red\">⚠️ **(No es necesario ejecutar las siguientes operaciones si ya han sido ejecutadas al seguir otro ejemplo durante esta sesión)**</span>"
   ]
  },
  {
   "cell_type": "code",
   "execution_count": null,
   "id": "be3abaff-efc2-4e84-99ea-2c23f8fac488",
   "metadata": {
    "tags": []
   },
   "outputs": [],
   "source": [
    "%%bash\n",
    "git config --global user.email \"fakemail@example.org\"\n",
    "git config --global user.name  \"exampleuser\""
   ]
  },
  {
   "cell_type": "markdown",
   "id": "1913fdc3-cbe3-4949-aaf7-af67f5aa423f",
   "metadata": {},
   "source": [
    "## Ejemplo\n",
    "Vamos a crear un archivo llamado <span style=\"font-family: Consolas\">foo.txt</span> al usar > para escribir el resultado de <span style=\"font-family: Consolas\">pwd</span> en ese archivo.<br />\n",
    "Añadiremos el archivo al control de versiones con <span style=\"font-family: Consolas\">git add</span> y haremos un <span style=\"font-family: Consolas\">commit</span>."
   ]
  },
  {
   "cell_type": "code",
   "execution_count": 24,
   "id": "4214af9c-46f8-4415-86a9-0bec2fdda3eb",
   "metadata": {
    "tags": []
   },
   "outputs": [
    {
     "name": "stdout",
     "output_type": "stream",
     "text": [
      "[master (root-commit) 246a55e] Crear foo.txt\n",
      " 1 file changed, 1 insertion(+)\n",
      " create mode 100644 foo.txt\n"
     ]
    }
   ],
   "source": [
    "%%bash\n",
    "pwd > foo.txt\n",
    "git add foo.txt\n",
    "git commit -a -m \"Crear foo.txt\""
   ]
  },
  {
   "cell_type": "markdown",
   "id": "dfe36ac5-6503-4b21-b41c-3666cbcaad32",
   "metadata": {},
   "source": [
    "Luego usaremos > nuevamente para modificar los contenidos de <span style=\"font-family: Consolas\">foo.txt</span>.<br/>\n",
    "Queremos guardar las variables de entorno del sistema en el que desarrollamos el código. Esto puede servir para establecer un sistema de desarrollo estandarizado para el equipo.<br/>\n",
    "Esto será un nuevo <span style=\"font-family: Consolas\">commit</span>."
   ]
  },
  {
   "cell_type": "code",
   "execution_count": 25,
   "id": "170d54f2-fb25-4172-8128-44217635e788",
   "metadata": {
    "tags": []
   },
   "outputs": [
    {
     "name": "stdout",
     "output_type": "stream",
     "text": [
      "[master 6e6ba36] env vars impreso en foo.txt\n",
      " 1 file changed, 26 insertions(+)\n"
     ]
    }
   ],
   "source": [
    "%%bash\n",
    "printenv >> foo.txt\n",
    "git commit -a -m \"env vars impreso en foo.txt\""
   ]
  },
  {
   "cell_type": "markdown",
   "id": "8b0e8c37-e16d-46d3-b2ad-2cb5d7a1d4f6",
   "metadata": {},
   "source": [
    "Consultar el contenido de <span style=\"font-family: Consolas\">foo.txt</span>:"
   ]
  },
  {
   "cell_type": "code",
   "execution_count": 8,
   "id": "789636d1-27ef-4e68-9525-2a943463b69b",
   "metadata": {
    "tags": []
   },
   "outputs": [
    {
     "name": "stdout",
     "output_type": "stream",
     "text": [
      "/home/jovyan\n",
      "SHELL=/bin/bash\n",
      "HOSTNAME=f5ebce01ab34\n",
      "LANGUAGE=en_US.UTF-8\n",
      "NB_UID=1000\n",
      "PWD=/home/jovyan\n",
      "JPY_SESSION_NAME=/home/jovyan/rebase.ipynb\n",
      "HOME=/home/jovyan\n",
      "LANG=en_US.UTF-8\n",
      "NB_GID=100\n",
      "FORCE_COLOR=1\n",
      "PYDEVD_USE_FRAME_EVAL=NO\n",
      "CLICOLOR=1\n",
      "CLICOLOR_FORCE=1\n",
      "JPY_PARENT_PID=7\n",
      "TERM=xterm-color\n",
      "GIT_PAGER=cat\n",
      "SHLVL=1\n",
      "PAGER=cat\n",
      "CONDA_DIR=/opt/conda\n",
      "MPLBACKEND=module://matplotlib_inline.backend_inline\n",
      "JUPYTER_PORT=8888\n",
      "NB_USER=jovyan\n",
      "LC_ALL=en_US.UTF-8\n",
      "PATH=/opt/conda/bin:/usr/local/sbin:/usr/local/bin:/usr/sbin:/usr/bin:/sbin:/bin\n",
      "DEBIAN_FRONTEND=noninteractive\n",
      "_=/usr/bin/printenv\n"
     ]
    }
   ],
   "source": [
    "%%bash\n",
    "cat foo.txt\n"
   ]
  },
  {
   "cell_type": "markdown",
   "id": "14c71a9d-c878-4306-907a-bd212241ee1c",
   "metadata": {},
   "source": [
    "Procedemos a crear una nueva rama llamada <span style=\"font-family: Consolas\">fix1</span> y a \"movernos\" hacia ella (*i.e.,* apuntar HEAD al puntero de la rama),"
   ]
  },
  {
   "cell_type": "code",
   "execution_count": 26,
   "id": "c7a65ef6-0e20-4245-bad3-41c70b82d48a",
   "metadata": {
    "tags": []
   },
   "outputs": [
    {
     "name": "stderr",
     "output_type": "stream",
     "text": [
      "Switched to a new branch 'fix1'\n"
     ]
    }
   ],
   "source": [
    "%%bash\n",
    "git switch -C fix1"
   ]
  },
  {
   "cell_type": "markdown",
   "id": "971e5dea-7532-4ab0-b657-678cd4f33c18",
   "metadata": {
    "tags": []
   },
   "source": [
    "Aplicamos un cambio a <span style=\"font-family: Consolas\">foo.txt</span> agregando el texto \"Datos:\" como su primera línea."
   ]
  },
  {
   "cell_type": "code",
   "execution_count": 27,
   "id": "e7bc79a7-a099-4d3b-8e20-6839999c6470",
   "metadata": {
    "tags": []
   },
   "outputs": [],
   "source": [
    "%%bash\n",
    "echo 'Datos:' | cat - foo.txt > temp && mv temp foo.txt"
   ]
  },
  {
   "cell_type": "markdown",
   "id": "fde0898c-7fa8-4b95-8128-4dd1b42c1fcb",
   "metadata": {},
   "source": [
    "Consultar el contenido de <span style=\"font-family: Consolas\">foo.txt</span>:"
   ]
  },
  {
   "cell_type": "code",
   "execution_count": 11,
   "id": "0bbae850-4242-43b8-87b0-2522be17b06e",
   "metadata": {
    "tags": []
   },
   "outputs": [
    {
     "name": "stdout",
     "output_type": "stream",
     "text": [
      "Datos:\n",
      "/home/jovyan\n",
      "SHELL=/bin/bash\n",
      "HOSTNAME=f5ebce01ab34\n",
      "LANGUAGE=en_US.UTF-8\n",
      "NB_UID=1000\n",
      "PWD=/home/jovyan\n",
      "JPY_SESSION_NAME=/home/jovyan/rebase.ipynb\n",
      "HOME=/home/jovyan\n",
      "LANG=en_US.UTF-8\n",
      "NB_GID=100\n",
      "FORCE_COLOR=1\n",
      "PYDEVD_USE_FRAME_EVAL=NO\n",
      "CLICOLOR=1\n",
      "CLICOLOR_FORCE=1\n",
      "JPY_PARENT_PID=7\n",
      "TERM=xterm-color\n",
      "GIT_PAGER=cat\n",
      "SHLVL=1\n",
      "PAGER=cat\n",
      "CONDA_DIR=/opt/conda\n",
      "MPLBACKEND=module://matplotlib_inline.backend_inline\n",
      "JUPYTER_PORT=8888\n",
      "NB_USER=jovyan\n",
      "LC_ALL=en_US.UTF-8\n",
      "PATH=/opt/conda/bin:/usr/local/sbin:/usr/local/bin:/usr/sbin:/usr/bin:/sbin:/bin\n",
      "DEBIAN_FRONTEND=noninteractive\n",
      "_=/usr/bin/printenv\n"
     ]
    }
   ],
   "source": [
    "%%bash\n",
    "cat foo.txt\n"
   ]
  },
  {
   "cell_type": "markdown",
   "id": "4728d360-33aa-4aa2-a869-fc1cf0cd296a",
   "metadata": {
    "tags": []
   },
   "source": [
    "Comisionamos nuestros cambios:"
   ]
  },
  {
   "cell_type": "code",
   "execution_count": 28,
   "id": "c092d5a6-fbe4-4d97-86a0-9bc8d7d320ad",
   "metadata": {
    "tags": []
   },
   "outputs": [
    {
     "name": "stdout",
     "output_type": "stream",
     "text": [
      "[fix1 01336c9] Agregado encabezado\n",
      " 1 file changed, 1 insertion(+)\n"
     ]
    }
   ],
   "source": [
    "%%bash\n",
    "git commit -a -m \"Agregado encabezado\""
   ]
  },
  {
   "cell_type": "markdown",
   "id": "78db53ef-d772-42dd-b669-dc82d3b9242c",
   "metadata": {
    "tags": []
   },
   "source": [
    "Y ahora regresamos a la rama <span style=\"font-family: Consolas\">master</span>."
   ]
  },
  {
   "cell_type": "code",
   "execution_count": 29,
   "id": "a4b75eed-5ba3-44f8-a514-a32b974de498",
   "metadata": {
    "tags": []
   },
   "outputs": [
    {
     "name": "stderr",
     "output_type": "stream",
     "text": [
      "Switched to branch 'master'\n"
     ]
    }
   ],
   "source": [
    "%%bash\n",
    "git switch master"
   ]
  },
  {
   "cell_type": "markdown",
   "id": "6b517afd-786a-4632-a7a8-76570535d03f",
   "metadata": {
    "tags": []
   },
   "source": [
    "Observemos la bitácora una vez más:"
   ]
  },
  {
   "cell_type": "markdown",
   "id": "9b1dc8d6-2cb4-4ca7-9849-c6127bcd932b",
   "metadata": {},
   "source": [
    "Si consultamos el contenido de <span style=\"font-family: Consolas\">foo.txt</span> veremos que ha retornado a su estado anterior debido a que en <span style=\"font-family: Consolas\">master</span> no se ha realizado el cambio del encabezado \"Datos:\"."
   ]
  },
  {
   "cell_type": "code",
   "execution_count": 16,
   "id": "6807c8a3-6a7a-4835-b08c-44ba7ffdde9e",
   "metadata": {
    "tags": []
   },
   "outputs": [
    {
     "name": "stdout",
     "output_type": "stream",
     "text": [
      "/home/jovyan\n",
      "SHELL=/bin/bash\n",
      "HOSTNAME=f5ebce01ab34\n",
      "LANGUAGE=en_US.UTF-8\n",
      "NB_UID=1000\n",
      "PWD=/home/jovyan\n",
      "JPY_SESSION_NAME=/home/jovyan/rebase.ipynb\n",
      "HOME=/home/jovyan\n",
      "LANG=en_US.UTF-8\n",
      "NB_GID=100\n",
      "FORCE_COLOR=1\n",
      "PYDEVD_USE_FRAME_EVAL=NO\n",
      "CLICOLOR=1\n",
      "CLICOLOR_FORCE=1\n",
      "JPY_PARENT_PID=7\n",
      "TERM=xterm-color\n",
      "GIT_PAGER=cat\n",
      "SHLVL=1\n",
      "PAGER=cat\n",
      "CONDA_DIR=/opt/conda\n",
      "MPLBACKEND=module://matplotlib_inline.backend_inline\n",
      "JUPYTER_PORT=8888\n",
      "NB_USER=jovyan\n",
      "LC_ALL=en_US.UTF-8\n",
      "PATH=/opt/conda/bin:/usr/local/sbin:/usr/local/bin:/usr/sbin:/usr/bin:/sbin:/bin\n",
      "DEBIAN_FRONTEND=noninteractive\n",
      "_=/usr/bin/printenv\n",
      "Hello mundo!\n"
     ]
    }
   ],
   "source": [
    "%%bash\n",
    "cat foo.txt\n"
   ]
  },
  {
   "cell_type": "markdown",
   "id": "8d1f056b-9bc9-4afb-b87e-c13678bdbe57",
   "metadata": {
    "tags": []
   },
   "source": [
    "A esta versión del archivo haremos un cambio diferente, agregando una línea al final del mismo."
   ]
  },
  {
   "cell_type": "code",
   "execution_count": 30,
   "id": "7e3259e0-b1bd-4644-bec3-4fc3cbd30d25",
   "metadata": {
    "tags": []
   },
   "outputs": [
    {
     "name": "stdout",
     "output_type": "stream",
     "text": [
      "[master 7b32788] Agregado Hello Mundo\n",
      " 1 file changed, 1 insertion(+)\n"
     ]
    }
   ],
   "source": [
    "%%bash\n",
    "echo \"Hello mundo!\" >> foo.txt\n",
    "git commit -a -m \"Agregado Hello Mundo\""
   ]
  },
  {
   "cell_type": "markdown",
   "id": "f266198b-971f-48bd-a071-fe23bbe76152",
   "metadata": {
    "tags": []
   },
   "source": [
    "Si vemos la bitácora de cambios observaremos que ahora hay divergencia entre los <span style=\"font-family: Consolas\">commits</span> de las ramas <span style=\"font-family: Consolas\">master</span> y <span style=\"font-family: Consolas\">fix1</span>:"
   ]
  },
  {
   "cell_type": "code",
   "execution_count": 31,
   "id": "86fbf6d8-077b-4790-8014-9d482971e9f5",
   "metadata": {
    "tags": []
   },
   "outputs": [
    {
     "name": "stdout",
     "output_type": "stream",
     "text": [
      "* commit 7b32788403888af3dd8cb05af09b6f2490104a29\n",
      "| Author: exampleuser <fakemail@example.org>\n",
      "| Date:   Tue Feb 21 00:36:12 2023 +0000\n",
      "| \n",
      "|     Agregado Hello Mundo\n",
      "|   \n",
      "| * commit 01336c94e94590a537b5f5afe0786034ff6adb38\n",
      "|/  Author: exampleuser <fakemail@example.org>\n",
      "|   Date:   Tue Feb 21 00:36:07 2023 +0000\n",
      "|   \n",
      "|       Agregado encabezado\n",
      "| \n",
      "* commit 6e6ba36b03e98e082db764920b992df146360080\n",
      "| Author: exampleuser <fakemail@example.org>\n",
      "| Date:   Tue Feb 21 00:35:59 2023 +0000\n",
      "| \n",
      "|     env vars impreso en foo.txt\n",
      "| \n",
      "* commit 246a55e1ddbcf6d0a2d01e84f2cc491afe9b957e\n",
      "  Author: exampleuser <fakemail@example.org>\n",
      "  Date:   Tue Feb 21 00:35:56 2023 +0000\n",
      "  \n",
      "      Crear foo.txt\n"
     ]
    }
   ],
   "source": [
    "%%bash\n",
    "git log --pretty --graph --all"
   ]
  },
  {
   "cell_type": "markdown",
   "id": "41129c8b-b7e6-4978-84b7-83f9dbacdcf5",
   "metadata": {
    "tags": []
   },
   "source": [
    "#### Elección"
   ]
  },
  {
   "cell_type": "markdown",
   "id": "e75775d4-682e-418f-9398-0fdc65301e66",
   "metadata": {
    "tags": []
   },
   "source": [
    "Ahora tenemos dos posibles caminos: registrar la existencia de la rama en el historial del repositorio mediante un *merge* o registrar los cambios hechos en la rama como un <span style=\"font-family: Consolas\">commit</span> más en <span style=\"font-family: Consolas\">master</span>. Ejecútese la siguiente celda para realizar *merge*:"
   ]
  },
  {
   "cell_type": "code",
   "execution_count": 18,
   "id": "b37f912e-74a5-401f-a727-92aac2c71a7e",
   "metadata": {
    "tags": []
   },
   "outputs": [
    {
     "name": "stdout",
     "output_type": "stream",
     "text": [
      "Auto-merging foo.txt\n",
      "Merge made by the 'ort' strategy.\n",
      " foo.txt | 1 +\n",
      " 1 file changed, 1 insertion(+)\n"
     ]
    }
   ],
   "source": [
    "%%bash\n",
    "git merge fix1"
   ]
  },
  {
   "cell_type": "markdown",
   "id": "29129821-0803-448e-8dbb-331dd053d77c",
   "metadata": {
    "tags": []
   },
   "source": [
    "Ejecútese la siguiente celda para realizar <span style=\"font-family: Consolas\">rebase</span> y registrar los cambios en <span style=\"font-family: Consolas\">fix1</span> como cambios realizados sobre <span style=\"font-family: Consolas\">master</span>:"
   ]
  },
  {
   "cell_type": "code",
   "execution_count": 32,
   "id": "db21568b-c145-4206-b383-dc231e4714bb",
   "metadata": {
    "tags": []
   },
   "outputs": [
    {
     "name": "stderr",
     "output_type": "stream",
     "text": [
      "Switched to branch 'fix1'\n",
      "\u001b[KSuccessfully rebased and updated refs/heads/fix1.\n"
     ]
    }
   ],
   "source": [
    "%%bash\n",
    "git switch fix1\n",
    "git rebase master"
   ]
  },
  {
   "cell_type": "markdown",
   "id": "4ab85234-571f-42ec-ab96-159bd429d406",
   "metadata": {
    "tags": []
   },
   "source": [
    "Observemos la bitácora una vez más. Dependiendo de la operación que hayamos realizado veremos una secuencia lineal de <span style=\"font-family: Consolas\">commits</span> o una donde una rama emerge y vuelve a entrar a <span style=\"font-family: Consolas\">master</span>:"
   ]
  },
  {
   "cell_type": "code",
   "execution_count": 34,
   "id": "c80da34b-5144-45ff-9069-20a79edb9411",
   "metadata": {
    "tags": []
   },
   "outputs": [
    {
     "name": "stdout",
     "output_type": "stream",
     "text": [
      "* commit 2f2f38a7ce82c9b86d64c54e4cb8c492fce5d30c\n",
      "| Author: exampleuser <fakemail@example.org>\n",
      "| Date:   Tue Feb 21 00:36:07 2023 +0000\n",
      "| \n",
      "|     Agregado encabezado\n",
      "| \n",
      "* commit 7b32788403888af3dd8cb05af09b6f2490104a29\n",
      "| Author: exampleuser <fakemail@example.org>\n",
      "| Date:   Tue Feb 21 00:36:12 2023 +0000\n",
      "| \n",
      "|     Agregado Hello Mundo\n",
      "| \n",
      "* commit 6e6ba36b03e98e082db764920b992df146360080\n",
      "| Author: exampleuser <fakemail@example.org>\n",
      "| Date:   Tue Feb 21 00:35:59 2023 +0000\n",
      "| \n",
      "|     env vars impreso en foo.txt\n",
      "| \n",
      "* commit 246a55e1ddbcf6d0a2d01e84f2cc491afe9b957e\n",
      "  Author: exampleuser <fakemail@example.org>\n",
      "  Date:   Tue Feb 21 00:35:56 2023 +0000\n",
      "  \n",
      "      Crear foo.txt\n"
     ]
    }
   ],
   "source": [
    "%%bash\n",
    "git log --pretty --graph --all"
   ]
  },
  {
   "cell_type": "markdown",
   "id": "9d2db4d9-6deb-49e2-8715-aa213e301ff5",
   "metadata": {},
   "source": [
    "Consultar el contenido de <span style=\"font-family: Consolas\">foo.txt</span> (nótense ambos cambios con respecto al archivo antes de crear la rama <span style=\"font-family: Consolas\">fix1</span>):"
   ]
  },
  {
   "cell_type": "code",
   "execution_count": 35,
   "id": "f169d0db-74c9-47ce-beed-faf04e532702",
   "metadata": {
    "tags": []
   },
   "outputs": [
    {
     "name": "stdout",
     "output_type": "stream",
     "text": [
      "Datos:\n",
      "/home/jovyan\n",
      "SHELL=/bin/bash\n",
      "HOSTNAME=f5ebce01ab34\n",
      "LANGUAGE=en_US.UTF-8\n",
      "NB_UID=1000\n",
      "PWD=/home/jovyan\n",
      "JPY_SESSION_NAME=/home/jovyan/rebase.ipynb\n",
      "HOME=/home/jovyan\n",
      "LANG=en_US.UTF-8\n",
      "NB_GID=100\n",
      "FORCE_COLOR=1\n",
      "PYDEVD_USE_FRAME_EVAL=NO\n",
      "CLICOLOR=1\n",
      "CLICOLOR_FORCE=1\n",
      "JPY_PARENT_PID=7\n",
      "TERM=xterm-color\n",
      "GIT_PAGER=cat\n",
      "SHLVL=1\n",
      "PAGER=cat\n",
      "CONDA_DIR=/opt/conda\n",
      "MPLBACKEND=module://matplotlib_inline.backend_inline\n",
      "JUPYTER_PORT=8888\n",
      "NB_USER=jovyan\n",
      "LC_ALL=en_US.UTF-8\n",
      "PATH=/opt/conda/bin:/usr/local/sbin:/usr/local/bin:/usr/sbin:/usr/bin:/sbin:/bin\n",
      "DEBIAN_FRONTEND=noninteractive\n",
      "_=/usr/bin/printenv\n",
      "Hello mundo!\n"
     ]
    }
   ],
   "source": [
    "%%bash\n",
    "cat foo.txt\n"
   ]
  },
  {
   "cell_type": "markdown",
   "id": "422bff7c-c73d-4c55-9103-028262ea46a2",
   "metadata": {},
   "source": [
    "### Conlusión\n",
    "¡Pudimos usar <span style=\"font-family: Consolas\">**git rebase**</span> para integrar cambios a la rama principal de un repositorio! <br/>\n",
    "Usar *rebasing* permite dejar un historial de cambios más limpio y facilita el trabajo de integración para quienes mantienen el repositorio principal del proyecto al que se contribuye.<br/><br>\n",
    "⚠️ Usar <span style=\"font-family: Consolas\">git rebase</span> es una operación que generaliza el trabajo de <span style=\"font-family: Consolas\">git commit --ammend</span>, que es alterar el historial de <span style=\"font-family: Consolas\">commits</span> realizados en un repositorio. Efectuar *rebasing* de cambios ya comisionados a un repositorio remoto puede provocar problemas de sincronización para otras personas trabajando sobre esos cambios. Estos problemas incluyen la reintroducción de <span style=\"font-family: Consolas\">commits</span> indeseados y pérdida de tiempo repitiendo *merges*, además del trabajo que requiere limpiar y ordenar el repositorio."
   ]
  }
 ],
 "metadata": {
  "kernelspec": {
   "display_name": "Python 3 (ipykernel)",
   "language": "python",
   "name": "python3"
  },
  "language_info": {
   "codemirror_mode": {
    "name": "ipython",
    "version": 3
   },
   "file_extension": ".py",
   "mimetype": "text/x-python",
   "name": "python",
   "nbconvert_exporter": "python",
   "pygments_lexer": "ipython3",
   "version": "3.10.9"
  },
  "vscode": {
   "interpreter": {
    "hash": "0dd6fa3abc8b5e7149b352393c5164f57b1cec79d3e0f994a3fd8126332678a6"
   }
  }
 },
 "nbformat": 4,
 "nbformat_minor": 5
}
