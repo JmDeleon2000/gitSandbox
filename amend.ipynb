{
 "cells": [
  {
   "cell_type": "markdown",
   "id": "d30653d3-4f74-4167-a46e-399243872924",
   "metadata": {},
   "source": [
    "# Ejemplo de git commit --amend"
   ]
  },
  {
   "cell_type": "markdown",
   "id": "dfabc62f-c51e-4617-8294-e33857adf70c",
   "metadata": {},
   "source": [
    "### Iniciar el repositorio "
   ]
  },
  {
   "cell_type": "code",
   "execution_count": null,
   "id": "2c7a920e-e179-46fb-9e93-f821894b643f",
   "metadata": {
    "tags": []
   },
   "outputs": [],
   "source": [
    "%%bash\n",
    "git init"
   ]
  },
  {
   "attachments": {},
   "cell_type": "markdown",
   "id": "587c4d7e-0169-46b6-a6f4-ad953246a42b",
   "metadata": {},
   "source": [
    "### Iniciar sesión"
   ]
  },
  {
   "cell_type": "markdown",
   "id": "e9756d4c-d6df-48dd-bb36-bf4357ac51e4",
   "metadata": {},
   "source": [
    "<span style=\"color:red\">⚠️ **(No hay que correrlo si ya lo ha corrido al seguir otro ejemplo durante esta sesión)**</span>"
   ]
  },
  {
   "cell_type": "code",
   "execution_count": null,
   "id": "be3abaff-efc2-4e84-99ea-2c23f8fac488",
   "metadata": {
    "tags": []
   },
   "outputs": [],
   "source": [
    "%%bash\n",
    "git config --global user.email \"fakemail@example.org\"\n",
    "git config --global user.name  \"exampleuser\""
   ]
  },
  {
   "cell_type": "markdown",
   "id": "1913fdc3-cbe3-4949-aaf7-af67f5aa423f",
   "metadata": {},
   "source": [
    "**Ejemplo**<br />\n",
    "Vamos a crear un archivo llamado foo.txt al usar > para escribir el resultado de pwd en ese archivo<br />\n",
    "Añadiremos el archivo al control de versiones con git add y haremos un commit "
   ]
  },
  {
   "cell_type": "code",
   "execution_count": null,
   "id": "4214af9c-46f8-4415-86a9-0bec2fdda3eb",
   "metadata": {
    "tags": []
   },
   "outputs": [],
   "source": [
    "%%bash\n",
    "pwd > foo.txt\n",
    "git add foo.txt\n",
    "git commit -a -m \"Crear foo.txt\""
   ]
  },
  {
   "cell_type": "markdown",
   "id": "dfe36ac5-6503-4b21-b41c-3666cbcaad32",
   "metadata": {},
   "source": [
    "Luego usaremos > nuevamente para modificar los contenidos de foo.txt <br/>\n",
    "Queremos guardar las *environment variables* del sistema en el que desarrollamos el código.<br/>\n",
    "Esto puede servir para establecer un sistema de desarrollo estandarizado para el equipo.<br/>\n",
    "Esto será un nuevo commit"
   ]
  },
  {
   "cell_type": "code",
   "execution_count": null,
   "id": "170d54f2-fb25-4172-8128-44217635e788",
   "metadata": {
    "tags": []
   },
   "outputs": [],
   "source": [
    "%%bash\n",
    "printenv > foo.txt\n",
    "git commit -a -m \"env vars impreso en foo.txt\""
   ]
  },
  {
   "cell_type": "markdown",
   "id": "14c71a9d-c878-4306-907a-bd212241ee1c",
   "metadata": {},
   "source": [
    "Pero entonces nos damos cuenta de que cometimos un error, pues no queremos imprimir todas las *environment variables* del sistema.<br/>\n",
    "Realmente solo nos interesa guardar **SHELL** y **LANG**<br/><br/>\n",
    "Entonces cambiamos nuestro commit anterior con <span style=\"font-family: Consolas\">**git commit --amend**</span>"
   ]
  },
  {
   "cell_type": "code",
   "execution_count": null,
   "id": "c7a65ef6-0e20-4245-bad3-41c70b82d48a",
   "metadata": {
    "tags": []
   },
   "outputs": [],
   "source": [
    "%%bash\n",
    "printenv SHELL LANG > foo.txt\n",
    "git commit -a --amend -m \"Oops\""
   ]
  },
  {
   "cell_type": "markdown",
   "id": "971e5dea-7532-4ab0-b657-678cd4f33c18",
   "metadata": {
    "tags": []
   },
   "source": [
    "Observemos la bitácora de cambios:"
   ]
  },
  {
   "cell_type": "code",
   "execution_count": null,
   "id": "e7bc79a7-a099-4d3b-8e20-6839999c6470",
   "metadata": {
    "tags": []
   },
   "outputs": [],
   "source": [
    "%%bash\n",
    "git log --pretty=oneline"
   ]
  },
  {
   "attachments": {},
   "cell_type": "markdown",
   "id": "4728d360-33aa-4aa2-a869-fc1cf0cd296a",
   "metadata": {
    "tags": []
   },
   "source": [
    "<br/>\n",
    "Podemos ver que el commit que hicimos antes, el que tiene como título <span style=\"color:#ce9178\">\"env vars impreso en foo.txt\"</span>, ya no está.<br/>\n",
    "Fue reemplazado por nuestro nuevo commit, el que tiene <span style=\"color:#ce9178\">\"Oops\"</span> como título.<br/><br/>\n",
    "    Pero entonces nos damos cuenta de que <span style=\"color:#ce9178\">\"Oops\"</span> no es un buen nombre para un commit, puesto que no da información útil."
   ]
  },
  {
   "attachments": {},
   "cell_type": "markdown",
   "id": "60bbaaf8-00e5-4577-84ea-6cfd26081b3a",
   "metadata": {},
   "source": [
    "Eso no es problema pues podemos volver a usar <span style=\"font-family: Consolas\">**git commit --amend**</span> para corregir el mensaje"
   ]
  },
  {
   "cell_type": "code",
   "execution_count": null,
   "id": "c092d5a6-fbe4-4d97-86a0-9bc8d7d320ad",
   "metadata": {
    "tags": []
   },
   "outputs": [],
   "source": [
    "%%bash\n",
    "git commit -a --amend -m \"SHELL y LANG impresas en foo.txt\""
   ]
  },
  {
   "cell_type": "markdown",
   "id": "6b517afd-786a-4632-a7a8-76570535d03f",
   "metadata": {
    "tags": []
   },
   "source": [
    "Observemos la bitácora una vez más:"
   ]
  },
  {
   "cell_type": "code",
   "execution_count": null,
   "id": "c80da34b-5144-45ff-9069-20a79edb9411",
   "metadata": {
    "tags": []
   },
   "outputs": [],
   "source": [
    "%%bash\n",
    "git log --pretty=oneline"
   ]
  },
  {
   "attachments": {},
   "cell_type": "markdown",
   "id": "422bff7c-c73d-4c55-9103-028262ea46a2",
   "metadata": {},
   "source": [
    "### Conlusión\n",
    "¡Pudimos usar <span style=\"font-family: Consolas\">**git commit --amend**</span> para corregir errores tanto en el contenido como en la forma de nuestro commit! <br/>\n",
    "El beneficio de hacer esto en vez de solo crear un nuevo commit que corrija los errores es que **--amend** reduce el ruido creado por tener commits que se tratan de correcciones menores y no de cambios importantes<br/>\n",
    "⚠️ Hay que tener cuidado de no hacer esto con commits a los que ya se les ha hecho push. Eso puede confundir a los colegas y inclusive dañar su trabajo."
   ]
  }
 ],
 "metadata": {
  "kernelspec": {
   "display_name": "Python 3 (ipykernel)",
   "language": "python",
   "name": "python3"
  },
  "language_info": {
   "codemirror_mode": {
    "name": "ipython",
    "version": 3
   },
   "file_extension": ".py",
   "mimetype": "text/x-python",
   "name": "python",
   "nbconvert_exporter": "python",
   "pygments_lexer": "ipython3",
   "version": "3.10.10"
  },
  "vscode": {
   "interpreter": {
    "hash": "0dd6fa3abc8b5e7149b352393c5164f57b1cec79d3e0f994a3fd8126332678a6"
   }
  }
 },
 "nbformat": 4,
 "nbformat_minor": 5
}
