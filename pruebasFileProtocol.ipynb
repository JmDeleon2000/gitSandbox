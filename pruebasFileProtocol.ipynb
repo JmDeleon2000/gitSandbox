{
 "cells": [
  {
   "cell_type": "code",
   "execution_count": 1,
   "id": "dfe2a813-a8ff-47c9-9496-18ba85a923ac",
   "metadata": {
    "tags": []
   },
   "outputs": [
    {
     "name": "stderr",
     "output_type": "stream",
     "text": [
      "hint: Using 'master' as the name for the initial branch. This default branch name\n",
      "hint: is subject to change. To configure the initial branch name to use in all\n",
      "hint: of your new repositories, which will suppress this warning, call:\n",
      "hint: \n",
      "hint: \tgit config --global init.defaultBranch <name>\n",
      "hint: \n",
      "hint: Names commonly chosen instead of 'master' are 'main', 'trunk' and\n",
      "hint: 'development'. The just-created branch can be renamed via this command:\n",
      "hint: \n",
      "hint: \tgit branch -m <name>\n"
     ]
    },
    {
     "name": "stdout",
     "output_type": "stream",
     "text": [
      "Initialized empty Git repository in /home/jovyan/.git/\n"
     ]
    }
   ],
   "source": [
    "%%bash\n",
    "git init"
   ]
  },
  {
   "cell_type": "code",
   "execution_count": 2,
   "id": "fb86c72c-c6be-4f14-bdb0-ff8d621b86ee",
   "metadata": {
    "tags": []
   },
   "outputs": [],
   "source": [
    "%%bash\n",
    "git config --global user.email \"fakemail@example.org\"\n",
    "git config --global user.name  \"exampleuser\""
   ]
  },
  {
   "cell_type": "code",
   "execution_count": 3,
   "id": "0a4f6977-6c05-4fbd-978d-e7fe79403b0b",
   "metadata": {
    "tags": []
   },
   "outputs": [],
   "source": [
    "%%bash\n",
    "git remote add origin repos/local"
   ]
  },
  {
   "cell_type": "code",
   "execution_count": 4,
   "id": "cef2a133-e5d4-4d78-b421-f46d9cbfd4db",
   "metadata": {
    "tags": []
   },
   "outputs": [
    {
     "name": "stdout",
     "output_type": "stream",
     "text": [
      "[master (root-commit) 52e71d7] Added foo.txt\n",
      " 1 file changed, 1 insertion(+)\n",
      " create mode 100644 foo.txt\n"
     ]
    }
   ],
   "source": [
    "%%bash\n",
    "pwd > foo.txt\n",
    "git add foo.txt\n",
    "git commit -a -m \"Added foo.txt\""
   ]
  },
  {
   "cell_type": "code",
   "execution_count": 19,
   "id": "4731d072-2c8a-4ab6-be68-3ed06edfd638",
   "metadata": {
    "tags": []
   },
   "outputs": [
    {
     "name": "stderr",
     "output_type": "stream",
     "text": [
      "To repos/local\n",
      "   52e71d7..d9839ae  master -> master\n"
     ]
    }
   ],
   "source": [
    "%%bash\n",
    "git push origin master"
   ]
  },
  {
   "cell_type": "code",
   "execution_count": 13,
   "id": "90da0658-56d5-48cf-be2d-064c21a0dd7a",
   "metadata": {
    "tags": []
   },
   "outputs": [
    {
     "name": "stdout",
     "output_type": "stream",
     "text": [
      "[master d9839ae] remove foo.txt\n",
      " 1 file changed, 1 deletion(-)\n",
      " delete mode 100644 foo.txt\n"
     ]
    }
   ],
   "source": [
    "%%bash\n",
    "rm foo.txt\n",
    "git commit -a -m \"remove foo.txt\""
   ]
  },
  {
   "cell_type": "code",
   "execution_count": 14,
   "id": "04bfe17d-f09f-4625-9155-66a34967edd8",
   "metadata": {
    "tags": []
   },
   "outputs": [
    {
     "name": "stderr",
     "output_type": "stream",
     "text": [
      "From repos/local\n",
      " * branch            master     -> FETCH_HEAD\n"
     ]
    }
   ],
   "source": [
    "%%bash \n",
    "git fetch origin master"
   ]
  },
  {
   "cell_type": "code",
   "execution_count": 15,
   "id": "407e2e88-e3e4-4568-9ca5-903faff76f42",
   "metadata": {
    "tags": []
   },
   "outputs": [
    {
     "name": "stderr",
     "output_type": "stream",
     "text": [
      "From repos/local\n",
      " * branch            master     -> FETCH_HEAD\n"
     ]
    },
    {
     "name": "stdout",
     "output_type": "stream",
     "text": [
      "Already up to date.\n"
     ]
    }
   ],
   "source": [
    "%%bash\n",
    "git pull origin master"
   ]
  },
  {
   "cell_type": "code",
   "execution_count": 20,
   "id": "aaa1372a-0c59-4e05-919a-8190a2f948db",
   "metadata": {
    "tags": []
   },
   "outputs": [
    {
     "name": "stdout",
     "output_type": "stream",
     "text": [
      "d9839ae0343266d8b215449021fa35302c125291 remove foo.txt\n",
      "52e71d76b4e8341a62fec20f5feb2f17aee28925 Added foo.txt\n"
     ]
    }
   ],
   "source": [
    "%%bash \n",
    "git log --pretty=oneline"
   ]
  },
  {
   "cell_type": "code",
   "execution_count": 18,
   "id": "705b2c09-67fe-4f28-bdcc-de8d7b3c06e3",
   "metadata": {
    "tags": []
   },
   "outputs": [
    {
     "name": "stdout",
     "output_type": "stream",
     "text": [
      "* master\n"
     ]
    }
   ],
   "source": [
    "%%bash\n",
    "git branch"
   ]
  },
  {
   "cell_type": "code",
   "execution_count": null,
   "id": "89363b75-60b2-4c3a-aa6b-24b0b59948e9",
   "metadata": {},
   "outputs": [],
   "source": []
  }
 ],
 "metadata": {
  "kernelspec": {
   "display_name": "Python 3 (ipykernel)",
   "language": "python",
   "name": "python3"
  },
  "language_info": {
   "codemirror_mode": {
    "name": "ipython",
    "version": 3
   },
   "file_extension": ".py",
   "mimetype": "text/x-python",
   "name": "python",
   "nbconvert_exporter": "python",
   "pygments_lexer": "ipython3",
   "version": "3.10.9"
  }
 },
 "nbformat": 4,
 "nbformat_minor": 5
}
